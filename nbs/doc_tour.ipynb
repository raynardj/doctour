{
 "cells": [
  {
   "cell_type": "markdown",
   "metadata": {},
   "source": [
    "# DocTour "
   ]
  },
  {
   "cell_type": "code",
   "execution_count": 1,
   "metadata": {},
   "outputs": [],
   "source": [
    "import pandas as pd"
   ]
  },
  {
   "cell_type": "code",
   "execution_count": 4,
   "metadata": {},
   "outputs": [],
   "source": [
    "class docTour(object):\n",
    "    def __init__(self,root_obj,root_name):\n",
    "        self.docs = dict()\n",
    "        self.root_obj = root_obj\n",
    "        self.objs = dict()\n",
    "        \n",
    "        self.doc_parser(self.root_obj,root_name,name_chain = root_name)\n",
    "        \n",
    "    def mid(self,obj):\n",
    "        \"\"\"\n",
    "        memory address\n",
    "        \"\"\"\n",
    "        return hex(id(obj))\n",
    "        \n",
    "    def doc_parser(self,obj,name,level = 0,name_chain = \"\"):\n",
    "        addr = self.mid(obj)\n",
    "        if addr in self.objs:\n",
    "            return None\n",
    "        else:\n",
    "            self.objs[addr]=name_chain\n",
    "        \n",
    "        if hasattr(obj,\"__doc__\"):\n",
    "            self.docs[name_chain] = obj.__doc__\n",
    "        for attr_name in dir(obj):\n",
    "            if self.mid(getattr(obj,attr_name)) in self.objs:\n",
    "                continue\n",
    "            elif attr_name == \"__doc__\":\n",
    "                if obj.__doc__ == None:\n",
    "                    return None\n",
    "                self.docs[attr_name] = str(obj.__doc__)\n",
    "            elif \"__\" not in attr_name:\n",
    "                name_chain_ = name_chain+\".\"+attr_name\n",
    "                if level<6:\n",
    "                    try:\n",
    "                        self.doc_parser(getattr(obj,attr_name),attr_name,level=level+1,name_chain = name_chain_)\n",
    "                    except:\n",
    "                        print(f\">>{name_chain_}\")"
   ]
  },
  {
   "cell_type": "code",
   "execution_count": 5,
   "metadata": {},
   "outputs": [
    {
     "name": "stdout",
     "output_type": "stream",
     "text": [
      ">>pd.Categorical._dtype.type\n",
      ">>pd._config.config.re.enum.EnumMeta\n",
      ">>pd._config.display.locale._collections_abc.ABCMeta\n",
      ">>pd._hashtable.np.False_.flat.base.flags\n",
      ">>pd._hashtable.np.True_.flags\n",
      ">>pd._hashtable.np.True_.flat.base.flags\n",
      ">>pd._hashtable.np.emath._ln2.flags\n",
      ">>pd._hashtable.np.emath._ln2.imag.flags\n",
      ">>pd._hashtable.np.ma.core.masked\n",
      ">>pd._hashtable.np.polynomial.Chebyshev.domain.flags"
     ]
    },
    {
     "name": "stderr",
     "output_type": "stream",
     "text": [
      "/Users/salvor/anaconda3/lib/python3.7/site-packages/ipykernel_launcher.py:25: FutureWarning: Timedelta.resolution is deprecated, in a future version will behave like the standard library datetime.timedelta.resolution attribute.  Use Timedelta.resolution_string instead.\n",
      "/Users/salvor/anaconda3/lib/python3.7/site-packages/ipykernel_launcher.py:25: FutureWarning: `weekday_name` is deprecated and will be removed in a future version. Use `day_name` instead\n",
      "/Users/salvor/anaconda3/lib/python3.7/site-packages/ipykernel_launcher.py:35: FutureWarning: `weekday_name` is deprecated and will be removed in a future version. Use `day_name` instead\n",
      "/Users/salvor/anaconda3/lib/python3.7/site-packages/ipykernel_launcher.py:35: FutureWarning: Timedelta.resolution is deprecated, in a future version will behave like the standard library datetime.timedelta.resolution attribute.  Use Timedelta.resolution_string instead.\n"
     ]
    },
    {
     "name": "stdout",
     "output_type": "stream",
     "text": [
      "\n",
      ">>pd._hashtable.np.polynomial.Chebyshev.window.flags\n",
      ">>pd._hashtable.np.polynomial.Hermite.domain.flags\n",
      ">>pd._hashtable.np.polynomial.Hermite.window.flags\n",
      ">>pd._hashtable.np.polynomial.HermiteE.domain.flags\n",
      ">>pd._hashtable.np.polynomial.HermiteE.window.flags\n",
      ">>pd._hashtable.np.polynomial.Laguerre.domain.flags\n",
      ">>pd._hashtable.np.polynomial.Laguerre.window.flags\n",
      ">>pd._hashtable.np.polynomial.Legendre.domain.flags\n",
      ">>pd._hashtable.np.polynomial.Legendre.window.flags\n",
      ">>pd._hashtable.np.polynomial.Polynomial.domain.flags\n",
      ">>pd._hashtable.np.polynomial.Polynomial.window.flags\n",
      ">>pd._hashtable.np.polynomial.chebyshev.chebdomain.flags\n",
      ">>pd._hashtable.np.polynomial.chebyshev.chebone.flags\n",
      ">>pd._hashtable.np.polynomial.chebyshev.chebx.flags\n",
      ">>pd._hashtable.np.polynomial.chebyshev.chebzero.flags\n",
      ">>pd._hashtable.np.polynomial.hermite.hermdomain.flags\n",
      ">>pd._hashtable.np.polynomial.hermite.hermx.flags\n",
      ">>pd._hashtable.np.polynomial.hermite.hermzero.flags\n",
      ">>pd._hashtable.np.polynomial.hermite_e.hermedomain.flags\n",
      ">>pd._hashtable.np.polynomial.hermite_e.hermeone.flags\n",
      ">>pd._hashtable.np.polynomial.hermite_e.hermex.flags\n",
      ">>pd._hashtable.np.polynomial.hermite_e.hermezero.flags\n",
      ">>pd._hashtable.np.polynomial.laguerre.lagdomain.flags\n",
      ">>pd._hashtable.np.polynomial.laguerre.lagone.flags\n",
      ">>pd._hashtable.np.polynomial.laguerre.lagx.flags\n",
      ">>pd._hashtable.np.polynomial.laguerre.lagzero.flags\n",
      ">>pd._hashtable.np.polynomial.legendre.legdomain.flags\n",
      ">>pd._hashtable.np.polynomial.legendre.legone.flags\n",
      ">>pd._hashtable.np.polynomial.legendre.legx.flags\n",
      ">>pd._hashtable.np.polynomial.legendre.legzero.flags\n",
      ">>pd._hashtable.np.polynomial.polynomial.polydomain.flags\n",
      ">>pd._hashtable.np.polynomial.polynomial.polyone.flags\n",
      ">>pd._hashtable.np.polynomial.polynomial.polyx.flags\n",
      ">>pd._hashtable.np.polynomial.polynomial.polyzero.flags\n",
      ">>pd.core.dtypes.generic._ABCGeneric\n",
      ">>pd.core.groupby.generic.typing.NamedTupleMeta\n",
      ">>pd.core.groupby.generic.typing._ProtocolMeta\n",
      ">>pd.core.reshape.merge.string._TemplateMetaclass\n",
      ">>pd.util.testing.RANDS_CHARS.T.T.flags\n",
      ">>pd.util.testing.RANDS_CHARS.T.flags\n",
      ">>pd.util.testing.RANDS_CHARS.T.imag.flags\n",
      ">>pd.util.testing.RANDS_CHARS.imag.T.flags\n",
      ">>pd.util.testing.RANDS_CHARS.imag.flags\n",
      ">>pd.util.testing.RANDS_CHARS.imag.imag.flags\n",
      ">>pd.util.testing.RANDU_CHARS.T.T.flags\n",
      ">>pd.util.testing.RANDU_CHARS.T.flags\n",
      ">>pd.util.testing.RANDU_CHARS.T.imag.flags\n",
      ">>pd.util.testing.RANDU_CHARS.imag.T.flags\n",
      ">>pd.util.testing.RANDU_CHARS.imag.flags\n",
      ">>pd.util.testing.RANDU_CHARS.imag.imag.flags\n"
     ]
    },
    {
     "name": "stderr",
     "output_type": "stream",
     "text": [
      "/Users/salvor/anaconda3/lib/python3.7/site-packages/ipykernel_launcher.py:25: MatplotlibDeprecationWarning: \n",
      "The msg_backend_obsolete attribute was deprecated in Matplotlib 3.0 and will be removed in 3.2.\n",
      "/Users/salvor/anaconda3/lib/python3.7/site-packages/ipykernel_launcher.py:35: MatplotlibDeprecationWarning: \n",
      "The msg_backend_obsolete attribute was deprecated in Matplotlib 3.0 and will be removed in 3.2.\n",
      "/Users/salvor/anaconda3/lib/python3.7/site-packages/ipykernel_launcher.py:25: MatplotlibDeprecationWarning: \n",
      "The msg_depr attribute was deprecated in Matplotlib 3.0 and will be removed in 3.2.\n",
      "/Users/salvor/anaconda3/lib/python3.7/site-packages/ipykernel_launcher.py:35: MatplotlibDeprecationWarning: \n",
      "The msg_depr attribute was deprecated in Matplotlib 3.0 and will be removed in 3.2.\n",
      "/Users/salvor/anaconda3/lib/python3.7/site-packages/ipykernel_launcher.py:25: MatplotlibDeprecationWarning: \n",
      "The msg_depr_ignore attribute was deprecated in Matplotlib 3.0 and will be removed in 3.2.\n",
      "/Users/salvor/anaconda3/lib/python3.7/site-packages/ipykernel_launcher.py:35: MatplotlibDeprecationWarning: \n",
      "The msg_depr_ignore attribute was deprecated in Matplotlib 3.0 and will be removed in 3.2.\n",
      "/Users/salvor/anaconda3/lib/python3.7/site-packages/ipykernel_launcher.py:25: MatplotlibDeprecationWarning: \n",
      "The msg_depr_set attribute was deprecated in Matplotlib 3.0 and will be removed in 3.2.\n",
      "/Users/salvor/anaconda3/lib/python3.7/site-packages/ipykernel_launcher.py:35: MatplotlibDeprecationWarning: \n",
      "The msg_depr_set attribute was deprecated in Matplotlib 3.0 and will be removed in 3.2.\n",
      "/Users/salvor/anaconda3/lib/python3.7/site-packages/ipykernel_launcher.py:25: MatplotlibDeprecationWarning: \n",
      "The msg_obsolete attribute was deprecated in Matplotlib 3.0 and will be removed in 3.2.\n",
      "/Users/salvor/anaconda3/lib/python3.7/site-packages/ipykernel_launcher.py:35: MatplotlibDeprecationWarning: \n",
      "The msg_obsolete attribute was deprecated in Matplotlib 3.0 and will be removed in 3.2.\n",
      "/Users/salvor/anaconda3/lib/python3.7/site-packages/ipykernel_launcher.py:25: MatplotlibDeprecationWarning: \n",
      "The has_nonfinite attribute was deprecated in Matplotlib 3.1 and will be removed in 3.3. Use not np.isfinite(self.vertices).all() instead.\n"
     ]
    }
   ],
   "source": [
    "dt = docTour(pd,\"pd\")"
   ]
  },
  {
   "cell_type": "code",
   "execution_count": 6,
   "metadata": {},
   "outputs": [],
   "source": [
    "gen = iter(dt.docs.items())"
   ]
  },
  {
   "cell_type": "code",
   "execution_count": 7,
   "metadata": {},
   "outputs": [
    {
     "data": {
      "text/plain": [
       "('pd',\n",
       " '\\npandas - a powerful data analysis and manipulation library for Python\\n=====================================================================\\n\\n**pandas** is a Python package providing fast, flexible, and expressive data\\nstructures designed to make working with \"relational\" or \"labeled\" data both\\neasy and intuitive. It aims to be the fundamental high-level building block for\\ndoing practical, **real world** data analysis in Python. Additionally, it has\\nthe broader goal of becoming **the most powerful and flexible open source data\\nanalysis / manipulation tool available in any language**. It is already well on\\nits way toward this goal.\\n\\nMain Features\\n-------------\\nHere are just a few of the things that pandas does well:\\n\\n  - Easy handling of missing data in floating point as well as non-floating\\n    point data.\\n  - Size mutability: columns can be inserted and deleted from DataFrame and\\n    higher dimensional objects\\n  - Automatic and explicit data alignment: objects can be explicitly aligned\\n    to a set of labels, or the user can simply ignore the labels and let\\n    `Series`, `DataFrame`, etc. automatically align the data for you in\\n    computations.\\n  - Powerful, flexible group by functionality to perform split-apply-combine\\n    operations on data sets, for both aggregating and transforming data.\\n  - Make it easy to convert ragged, differently-indexed data in other Python\\n    and NumPy data structures into DataFrame objects.\\n  - Intelligent label-based slicing, fancy indexing, and subsetting of large\\n    data sets.\\n  - Intuitive merging and joining data sets.\\n  - Flexible reshaping and pivoting of data sets.\\n  - Hierarchical labeling of axes (possible to have multiple labels per tick).\\n  - Robust IO tools for loading data from flat files (CSV and delimited),\\n    Excel files, databases, and saving/loading data from the ultrafast HDF5\\n    format.\\n  - Time series-specific functionality: date range generation and frequency\\n    conversion, moving window statistics, moving window linear regressions,\\n    date shifting and lagging, etc.\\n')"
      ]
     },
     "execution_count": 7,
     "metadata": {},
     "output_type": "execute_result"
    }
   ],
   "source": [
    "next(gen)"
   ]
  },
  {
   "cell_type": "code",
   "execution_count": 11,
   "metadata": {},
   "outputs": [
    {
     "name": "stdout",
     "output_type": "stream",
     "text": [
      "15209\n"
     ]
    }
   ],
   "source": [
    "print(len(dt.docs))"
   ]
  },
  {
   "cell_type": "code",
   "execution_count": 98,
   "metadata": {},
   "outputs": [],
   "source": [
    "dt.doc_parser(np,\"np\")"
   ]
  },
  {
   "cell_type": "code",
   "execution_count": null,
   "metadata": {},
   "outputs": [],
   "source": []
  }
 ],
 "metadata": {
  "kernelspec": {
   "display_name": "Python 3",
   "language": "python",
   "name": "python3"
  },
  "language_info": {
   "codemirror_mode": {
    "name": "ipython",
    "version": 3
   },
   "file_extension": ".py",
   "mimetype": "text/x-python",
   "name": "python",
   "nbconvert_exporter": "python",
   "pygments_lexer": "ipython3",
   "version": "3.7.4"
  }
 },
 "nbformat": 4,
 "nbformat_minor": 4
}
