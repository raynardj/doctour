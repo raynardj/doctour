{
 "cells": [
  {
   "cell_type": "markdown",
   "metadata": {},
   "source": [
    "# DocTour "
   ]
  },
  {
   "cell_type": "code",
   "execution_count": 384,
   "metadata": {},
   "outputs": [],
   "source": [
    "import pandas as pd"
   ]
  },
  {
   "cell_type": "code",
   "execution_count": 385,
   "metadata": {},
   "outputs": [],
   "source": [
    "class singleDoc(object):\n",
    "    def __init__(self, name,doc=\"\",level = -1):\n",
    "        self.name = name.split(\".\")[-1]\n",
    "        self.doc = doc if doc else \"\"\n",
    "        self.parents = []\n",
    "        self.kids = []\n",
    "        self.names = []\n",
    "        self.names.append(name)\n",
    "        self.level = level\n",
    "        \n",
    "    def __repr__(self):\n",
    "        return f\"[{self.name}]\"\n",
    "#         return f\"\"\"\n",
    "#         [Name:\\t{self.name}][Level:\\t{self.level}][Names:{len(self.names)}]\n",
    "#         \"\"\"\n",
    "    \n",
    "    def new_parent(self,parent):\n",
    "        if parent:\n",
    "            self.parents.append(parent)\n",
    "            parent.kids.append(self)\n",
    "            \n",
    "    def new_name(self,nname):\n",
    "        self.names.append(nname)\n",
    "        \n",
    "    def to_dicts(self,*cols):\n",
    "        return dict((col,getattr(self,col)) for col in cols)\n"
   ]
  },
  {
   "cell_type": "code",
   "execution_count": 386,
   "metadata": {},
   "outputs": [],
   "source": [
    "def mv_attr(*args):\n",
    "    args_kv = dict((a,f\"__{a}__\") for a in args)\n",
    "    def move(src,dst):\n",
    "        for da,sa in args_kv.items():\n",
    "            if hasattr(src, sa):\n",
    "                setattr(dst, da, getattr(src, sa))\n",
    "    return move"
   ]
  },
  {
   "cell_type": "code",
   "execution_count": 387,
   "metadata": {},
   "outputs": [],
   "source": [
    "moves = mv_attr(\"doc\")"
   ]
  },
  {
   "cell_type": "code",
   "execution_count": 388,
   "metadata": {},
   "outputs": [],
   "source": [
    "class docTour(object):\n",
    "    def __init__(self,root_obj,root_name):\n",
    "        self.docs = dict()\n",
    "        self.root_obj = root_obj\n",
    "        self.objs = dict()\n",
    "        \n",
    "        self.doc_parser(self.root_obj,root_name,name_chain = root_name)\n",
    "        \n",
    "    def mid(self,obj):\n",
    "        \"\"\"\n",
    "        memory address\n",
    "        \"\"\"\n",
    "        return hex(id(obj))\n",
    "    \n",
    "    def to_df(self):\n",
    "        df = pd.DataFrame(list(i.to_dicts(\"name\",\"doc\",\"parents\",\"kids\",\"names\",\"level\",) for i in self.docs.values()))\n",
    "        df[\"p_ct\"] = df.parents.apply(len)\n",
    "        df[\"k_ct\"] = df.kids.apply(len)\n",
    "        return df\n",
    "        \n",
    "    def doc_parser(self,obj,name,level = 0,name_chain = \"\",parent = None):\n",
    "        addr = self.mid(obj)\n",
    "        if addr in self.objs:\n",
    "            if type(self.objs[addr])==singleDoc:\n",
    "                sd = self.objs[addr]\n",
    "                sd.new_name(name)\n",
    "                sd.new_parent(parent)\n",
    "            return None\n",
    "        else:\n",
    "            self.objs[addr]=name_chain\n",
    "        \n",
    "        if hasattr(obj,\"__doc__\"):\n",
    "            self.docs[name_chain] = singleDoc(name_chain,level = level,)\n",
    "            moves(obj,self.docs[name_chain])\n",
    "            self.docs[name_chain].new_parent(parent)\n",
    "            self.objs[addr] = self.docs[name_chain]\n",
    "\n",
    "        for attr_name in dir(obj):\n",
    "            if self.mid(getattr(obj,attr_name)) in self.objs:\n",
    "                continue\n",
    "            elif \"__\" not in attr_name:\n",
    "                name_chain_ = name_chain+\".\"+attr_name\n",
    "                if level<6:\n",
    "                    try:\n",
    "                        self.doc_parser(getattr(obj,attr_name),attr_name,level=level+1,name_chain = name_chain_,parent = self.docs[name_chain])\n",
    "                    except:\n",
    "                        print(f\"[ERROR]>>{name_chain_}\")"
   ]
  },
  {
   "cell_type": "code",
   "execution_count": 389,
   "metadata": {},
   "outputs": [
    {
     "name": "stdout",
     "output_type": "stream",
     "text": [
      "[ERROR]>>pd.Categorical._dtype.type\n",
      "[ERROR]>>pd.DatetimeIndex._delegate_class._scalar_type.max.asm8.flags\n",
      "[ERROR]>>pd.DatetimeIndex._na_value.asm8.flags\n",
      "[ERROR]>>pd.DatetimeIndex._na_value.asm8.flat.base.T\n",
      "[ERROR]>>pd.DatetimeIndex._na_value.asm8.flat.base\n",
      "[ERROR]>>pd.DatetimeIndex._na_value.asm8.imag.flags\n",
      "[ERROR]>>pd.DatetimeIndex._na_value.asm8.imag.flat.base\n",
      "[ERROR]>>pd.DatetimeIndex._na_value.asm8.imag.imag.flags\n",
      "[ERROR]>>pd.Timedelta.max.min.asm8.flags\n",
      "[ERROR]>>pd.Timedelta.max.min.asm8.flat.base\n",
      "[ERROR]>>pd.Timedelta.max.min.asm8.imag.flags\n",
      "[ERROR]>>pd._config.config.re.enum.EnumMeta\n",
      "[ERROR]>>pd._config.display.locale._collections_abc.ABCMeta\n",
      "[ERROR]>>pd._hashtable.np.False_.flags\n",
      "[ERROR]>>pd._hashtable.np.False_.flat.base.flags\n",
      "[ERROR]>>pd._hashtable.np.True_.flags\n",
      "[ERROR]>>pd._hashtable.np.emath._ln2.flags\n",
      "[ERROR]>>pd._hashtable.np.emath._ln2.imag.flags\n"
     ]
    },
    {
     "name": "stderr",
     "output_type": "stream",
     "text": [
      "/Users/salvor/anaconda3/lib/python3.7/site-packages/ipykernel_launcher.py:39: FutureWarning: Timedelta.resolution is deprecated, in a future version will behave like the standard library datetime.timedelta.resolution attribute.  Use Timedelta.resolution_string instead.\n",
      "/Users/salvor/anaconda3/lib/python3.7/site-packages/ipykernel_launcher.py:39: FutureWarning: `weekday_name` is deprecated and will be removed in a future version. Use `day_name` instead\n",
      "/Users/salvor/anaconda3/lib/python3.7/site-packages/ipykernel_launcher.py:45: FutureWarning: `weekday_name` is deprecated and will be removed in a future version. Use `day_name` instead\n",
      "/Users/salvor/anaconda3/lib/python3.7/site-packages/ipykernel_launcher.py:45: FutureWarning: Timedelta.resolution is deprecated, in a future version will behave like the standard library datetime.timedelta.resolution attribute.  Use Timedelta.resolution_string instead.\n"
     ]
    },
    {
     "name": "stdout",
     "output_type": "stream",
     "text": [
      "[ERROR]>>pd._hashtable.np.ma.core.masked\n",
      "[ERROR]>>pd._hashtable.np.polynomial.Chebyshev.domain.flags\n",
      "[ERROR]>>pd._hashtable.np.polynomial.Chebyshev.window.flags\n",
      "[ERROR]>>pd._hashtable.np.polynomial.Hermite.domain.flags\n",
      "[ERROR]>>pd._hashtable.np.polynomial.Hermite.window.flags\n",
      "[ERROR]>>pd._hashtable.np.polynomial.HermiteE.domain.flags\n",
      "[ERROR]>>pd._hashtable.np.polynomial.HermiteE.window.flags\n",
      "[ERROR]>>pd._hashtable.np.polynomial.Laguerre.domain.flags\n",
      "[ERROR]>>pd._hashtable.np.polynomial.Laguerre.window.flags\n",
      "[ERROR]>>pd._hashtable.np.polynomial.Legendre.domain.flags\n",
      "[ERROR]>>pd._hashtable.np.polynomial.Legendre.window.flags\n",
      "[ERROR]>>pd._hashtable.np.polynomial.Polynomial.domain.flags\n",
      "[ERROR]>>pd._hashtable.np.polynomial.Polynomial.window.flags\n",
      "[ERROR]>>pd._hashtable.np.polynomial.chebyshev.chebdomain.flags\n",
      "[ERROR]>>pd._hashtable.np.polynomial.chebyshev.chebone.flags\n",
      "[ERROR]>>pd._hashtable.np.polynomial.chebyshev.chebx.flags\n",
      "[ERROR]>>pd._hashtable.np.polynomial.chebyshev.chebzero.flags\n",
      "[ERROR]>>pd._hashtable.np.polynomial.hermite.hermdomain.flags\n",
      "[ERROR]>>pd._hashtable.np.polynomial.hermite.hermone.flags\n",
      "[ERROR]>>pd._hashtable.np.polynomial.hermite.hermx.flags\n",
      "[ERROR]>>pd._hashtable.np.polynomial.hermite.hermzero.flags\n",
      "[ERROR]>>pd._hashtable.np.polynomial.hermite_e.hermedomain.flags\n",
      "[ERROR]>>pd._hashtable.np.polynomial.hermite_e.hermeone.flags\n",
      "[ERROR]>>pd._hashtable.np.polynomial.hermite_e.hermex.flags\n",
      "[ERROR]>>pd._hashtable.np.polynomial.hermite_e.hermezero.flags\n",
      "[ERROR]>>pd._hashtable.np.polynomial.laguerre.lagdomain.flags\n",
      "[ERROR]>>pd._hashtable.np.polynomial.laguerre.lagone.flags\n",
      "[ERROR]>>pd._hashtable.np.polynomial.laguerre.lagx.flags\n",
      "[ERROR]>>pd._hashtable.np.polynomial.laguerre.lagzero.flags\n",
      "[ERROR]>>pd._hashtable.np.polynomial.legendre.legdomain.flags\n",
      "[ERROR]>>pd._hashtable.np.polynomial.legendre.legone.flags\n",
      "[ERROR]>>pd._hashtable.np.polynomial.legendre.legx.flags\n",
      "[ERROR]>>pd._hashtable.np.polynomial.legendre.legzero.flags\n",
      "[ERROR]>>pd._hashtable.np.polynomial.polynomial.polydomain.flags\n",
      "[ERROR]>>pd._hashtable.np.polynomial.polynomial.polyone.flags\n",
      "[ERROR]>>pd._hashtable.np.polynomial.polynomial.polyx.flags\n",
      "[ERROR]>>pd._hashtable.np.polynomial.polynomial.polyzero.flags\n",
      "[ERROR]>>pd.core.dtypes.generic._ABCGeneric\n",
      "[ERROR]>>pd.core.groupby.generic.typing.NamedTupleMeta\n",
      "[ERROR]>>pd.core.groupby.generic.typing._ProtocolMeta\n",
      "[ERROR]>>pd.core.reshape.merge.string._TemplateMetaclass\n",
      "[ERROR]>>pd.util.testing.RANDS_CHARS.T.T.flags\n",
      "[ERROR]>>pd.util.testing.RANDS_CHARS.T.flags\n",
      "[ERROR]>>pd.util.testing.RANDS_CHARS.T.imag.flags\n",
      "[ERROR]>>pd.util.testing.RANDS_CHARS.flags\n",
      "[ERROR]>>pd.util.testing.RANDS_CHARS.imag.flags\n",
      "[ERROR]>>pd.util.testing.RANDS_CHARS.imag.imag.flags\n",
      "[ERROR]>>pd.util.testing.RANDU_CHARS.T.T.flags\n",
      "[ERROR]>>pd.util.testing.RANDU_CHARS.T.flags\n",
      "[ERROR]>>pd.util.testing.RANDU_CHARS.T.imag.flags\n",
      "[ERROR]>>pd.util.testing.RANDU_CHARS.flags\n",
      "[ERROR]>>pd.util.testing.RANDU_CHARS.imag.T.flags\n",
      "[ERROR]>>pd.util.testing.RANDU_CHARS.imag.flags\n",
      "[ERROR]>>pd.util.testing.RANDU_CHARS.imag.imag.flags\n"
     ]
    },
    {
     "name": "stderr",
     "output_type": "stream",
     "text": [
      "/Users/salvor/anaconda3/lib/python3.7/site-packages/ipykernel_launcher.py:39: MatplotlibDeprecationWarning: \n",
      "The msg_backend_obsolete attribute was deprecated in Matplotlib 3.0 and will be removed in 3.2.\n",
      "/Users/salvor/anaconda3/lib/python3.7/site-packages/ipykernel_launcher.py:45: MatplotlibDeprecationWarning: \n",
      "The msg_backend_obsolete attribute was deprecated in Matplotlib 3.0 and will be removed in 3.2.\n",
      "/Users/salvor/anaconda3/lib/python3.7/site-packages/ipykernel_launcher.py:39: MatplotlibDeprecationWarning: \n",
      "The msg_depr attribute was deprecated in Matplotlib 3.0 and will be removed in 3.2.\n",
      "/Users/salvor/anaconda3/lib/python3.7/site-packages/ipykernel_launcher.py:45: MatplotlibDeprecationWarning: \n",
      "The msg_depr attribute was deprecated in Matplotlib 3.0 and will be removed in 3.2.\n",
      "/Users/salvor/anaconda3/lib/python3.7/site-packages/ipykernel_launcher.py:39: MatplotlibDeprecationWarning: \n",
      "The msg_depr_ignore attribute was deprecated in Matplotlib 3.0 and will be removed in 3.2.\n",
      "/Users/salvor/anaconda3/lib/python3.7/site-packages/ipykernel_launcher.py:45: MatplotlibDeprecationWarning: \n",
      "The msg_depr_ignore attribute was deprecated in Matplotlib 3.0 and will be removed in 3.2.\n",
      "/Users/salvor/anaconda3/lib/python3.7/site-packages/ipykernel_launcher.py:39: MatplotlibDeprecationWarning: \n",
      "The msg_depr_set attribute was deprecated in Matplotlib 3.0 and will be removed in 3.2.\n",
      "/Users/salvor/anaconda3/lib/python3.7/site-packages/ipykernel_launcher.py:45: MatplotlibDeprecationWarning: \n",
      "The msg_depr_set attribute was deprecated in Matplotlib 3.0 and will be removed in 3.2.\n",
      "/Users/salvor/anaconda3/lib/python3.7/site-packages/ipykernel_launcher.py:39: MatplotlibDeprecationWarning: \n",
      "The msg_obsolete attribute was deprecated in Matplotlib 3.0 and will be removed in 3.2.\n",
      "/Users/salvor/anaconda3/lib/python3.7/site-packages/ipykernel_launcher.py:45: MatplotlibDeprecationWarning: \n",
      "The msg_obsolete attribute was deprecated in Matplotlib 3.0 and will be removed in 3.2.\n",
      "/Users/salvor/anaconda3/lib/python3.7/site-packages/ipykernel_launcher.py:39: MatplotlibDeprecationWarning: \n",
      "The has_nonfinite attribute was deprecated in Matplotlib 3.1 and will be removed in 3.3. Use not np.isfinite(self.vertices).all() instead.\n"
     ]
    }
   ],
   "source": [
    "dt = docTour(pd,\"pd\")"
   ]
  },
  {
   "cell_type": "code",
   "execution_count": 390,
   "metadata": {},
   "outputs": [],
   "source": [
    "gen = iter(dt.docs.items())"
   ]
  },
  {
   "cell_type": "code",
   "execution_count": 391,
   "metadata": {},
   "outputs": [
    {
     "data": {
      "text/plain": [
       "('pd', [pd])"
      ]
     },
     "execution_count": 391,
     "metadata": {},
     "output_type": "execute_result"
    }
   ],
   "source": [
    "next(gen)"
   ]
  },
  {
   "cell_type": "code",
   "execution_count": 392,
   "metadata": {},
   "outputs": [
    {
     "name": "stdout",
     "output_type": "stream",
     "text": [
      "19797\n"
     ]
    }
   ],
   "source": [
    "print(len(dt.docs))"
   ]
  },
  {
   "cell_type": "code",
   "execution_count": 393,
   "metadata": {},
   "outputs": [
    {
     "data": {
      "text/plain": [
       "[pd]"
      ]
     },
     "execution_count": 393,
     "metadata": {},
     "output_type": "execute_result"
    }
   ],
   "source": [
    "dt.docs[\"pd\"]"
   ]
  },
  {
   "cell_type": "code",
   "execution_count": 394,
   "metadata": {},
   "outputs": [
    {
     "data": {
      "text/plain": [
       "[]"
      ]
     },
     "execution_count": 394,
     "metadata": {},
     "output_type": "execute_result"
    }
   ],
   "source": [
    "dt.docs[\"pd\"].parents"
   ]
  },
  {
   "cell_type": "code",
   "execution_count": 395,
   "metadata": {},
   "outputs": [
    {
     "data": {
      "text/plain": [
       "['pd']"
      ]
     },
     "execution_count": 395,
     "metadata": {},
     "output_type": "execute_result"
    }
   ],
   "source": [
    "dt.docs[\"pd\"].names"
   ]
  },
  {
   "cell_type": "code",
   "execution_count": 396,
   "metadata": {},
   "outputs": [
    {
     "data": {
      "text/plain": [
       "pandas.core.arrays.categorical.Categorical"
      ]
     },
     "execution_count": 396,
     "metadata": {},
     "output_type": "execute_result"
    }
   ],
   "source": [
    "(pd.Categorical)"
   ]
  },
  {
   "cell_type": "code",
   "execution_count": 397,
   "metadata": {},
   "outputs": [],
   "source": [
    "stats = dt.to_df()"
   ]
  },
  {
   "cell_type": "code",
   "execution_count": 398,
   "metadata": {},
   "outputs": [
    {
     "data": {
      "text/html": [
       "<div>\n",
       "<style scoped>\n",
       "    .dataframe tbody tr th:only-of-type {\n",
       "        vertical-align: middle;\n",
       "    }\n",
       "\n",
       "    .dataframe tbody tr th {\n",
       "        vertical-align: top;\n",
       "    }\n",
       "\n",
       "    .dataframe thead th {\n",
       "        text-align: right;\n",
       "    }\n",
       "</style>\n",
       "<table border=\"1\" class=\"dataframe\">\n",
       "  <thead>\n",
       "    <tr style=\"text-align: right;\">\n",
       "      <th></th>\n",
       "      <th>name</th>\n",
       "      <th>doc</th>\n",
       "      <th>parents</th>\n",
       "      <th>kids</th>\n",
       "      <th>names</th>\n",
       "      <th>level</th>\n",
       "      <th>p_ct</th>\n",
       "      <th>k_ct</th>\n",
       "    </tr>\n",
       "  </thead>\n",
       "  <tbody>\n",
       "    <tr>\n",
       "      <th>2049</th>\n",
       "      <td>astimezone</td>\n",
       "      <td>\\n        Convert tz-aware Timestamp to anothe...</td>\n",
       "      <td>[[_na_value], [DatetimeTZDtype], [Index], [Int...</td>\n",
       "      <td>[]</td>\n",
       "      <td>[pd.DatetimeIndex._na_value.astimezone, constr...</td>\n",
       "      <td>3</td>\n",
       "      <td>11</td>\n",
       "      <td>0</td>\n",
       "    </tr>\n",
       "    <tr>\n",
       "      <th>14357</th>\n",
       "      <td>_add_numeric_operations</td>\n",
       "      <td>\\n        Add numeric operations to the GroupB...</td>\n",
       "      <td>[[DataFrameGroupBy], [Path], [Accent]]</td>\n",
       "      <td>[]</td>\n",
       "      <td>[pd.core.groupby.DataFrameGroupBy._add_numeric...</td>\n",
       "      <td>4</td>\n",
       "      <td>3</td>\n",
       "      <td>0</td>\n",
       "    </tr>\n",
       "    <tr>\n",
       "      <th>3560</th>\n",
       "      <td>compute</td>\n",
       "      <td>provide attribute-style access to a nested dict</td>\n",
       "      <td>[[options], [options], [options]]</td>\n",
       "      <td>[]</td>\n",
       "      <td>[pd._config.config.options.compute, io, plotting]</td>\n",
       "      <td>4</td>\n",
       "      <td>3</td>\n",
       "      <td>0</td>\n",
       "    </tr>\n",
       "    <tr>\n",
       "      <th>9</th>\n",
       "      <td>_concat_same_type</td>\n",
       "      <td>None</td>\n",
       "      <td>[[Categorical], [DatetimeIndex], [_dateutil_pa...</td>\n",
       "      <td>[]</td>\n",
       "      <td>[pd.Categorical._concat_same_type, _add_arithm...</td>\n",
       "      <td>2</td>\n",
       "      <td>3</td>\n",
       "      <td>0</td>\n",
       "    </tr>\n",
       "    <tr>\n",
       "      <th>2253</th>\n",
       "      <td>name</td>\n",
       "      <td>str(object='') -&gt; str\\nstr(bytes_or_buffer[, e...</td>\n",
       "      <td>[[base], [base]]</td>\n",
       "      <td>[]</td>\n",
       "      <td>[pd.DatetimeTZDtype.base.name, str]</td>\n",
       "      <td>3</td>\n",
       "      <td>2</td>\n",
       "      <td>0</td>\n",
       "    </tr>\n",
       "    <tr>\n",
       "      <th>...</th>\n",
       "      <td>...</td>\n",
       "      <td>...</td>\n",
       "      <td>...</td>\n",
       "      <td>...</td>\n",
       "      <td>...</td>\n",
       "      <td>...</td>\n",
       "      <td>...</td>\n",
       "      <td>...</td>\n",
       "    </tr>\n",
       "    <tr>\n",
       "      <th>6602</th>\n",
       "      <td>real</td>\n",
       "      <td>the real part of a complex number</td>\n",
       "      <td>[[complex]]</td>\n",
       "      <td>[]</td>\n",
       "      <td>[pd._hashtable.np.complex.real]</td>\n",
       "      <td>4</td>\n",
       "      <td>1</td>\n",
       "      <td>0</td>\n",
       "    </tr>\n",
       "    <tr>\n",
       "      <th>6601</th>\n",
       "      <td>imag</td>\n",
       "      <td>the imaginary part of a complex number</td>\n",
       "      <td>[[complex]]</td>\n",
       "      <td>[]</td>\n",
       "      <td>[pd._hashtable.np.complex.imag]</td>\n",
       "      <td>4</td>\n",
       "      <td>1</td>\n",
       "      <td>0</td>\n",
       "    </tr>\n",
       "    <tr>\n",
       "      <th>6600</th>\n",
       "      <td>conjugate</td>\n",
       "      <td>complex.conjugate() -&gt; complex\\n\\nReturn the c...</td>\n",
       "      <td>[[complex]]</td>\n",
       "      <td>[]</td>\n",
       "      <td>[pd._hashtable.np.complex.conjugate]</td>\n",
       "      <td>4</td>\n",
       "      <td>1</td>\n",
       "      <td>0</td>\n",
       "    </tr>\n",
       "    <tr>\n",
       "      <th>6599</th>\n",
       "      <td>complex</td>\n",
       "      <td>Create a complex number from a real part and a...</td>\n",
       "      <td>[[np]]</td>\n",
       "      <td>[[conjugate], [imag], [real]]</td>\n",
       "      <td>[pd._hashtable.np.complex]</td>\n",
       "      <td>3</td>\n",
       "      <td>1</td>\n",
       "      <td>3</td>\n",
       "    </tr>\n",
       "    <tr>\n",
       "      <th>0</th>\n",
       "      <td>pd</td>\n",
       "      <td>\\npandas - a powerful data analysis and manipu...</td>\n",
       "      <td>[]</td>\n",
       "      <td>[[Categorical], [CategoricalDtype], [Categoric...</td>\n",
       "      <td>[pd]</td>\n",
       "      <td>0</td>\n",
       "      <td>0</td>\n",
       "      <td>60</td>\n",
       "    </tr>\n",
       "  </tbody>\n",
       "</table>\n",
       "<p>19797 rows × 8 columns</p>\n",
       "</div>"
      ],
      "text/plain": [
       "                          name  \\\n",
       "2049                astimezone   \n",
       "14357  _add_numeric_operations   \n",
       "3560                   compute   \n",
       "9            _concat_same_type   \n",
       "2253                      name   \n",
       "...                        ...   \n",
       "6602                      real   \n",
       "6601                      imag   \n",
       "6600                 conjugate   \n",
       "6599                   complex   \n",
       "0                           pd   \n",
       "\n",
       "                                                     doc  \\\n",
       "2049   \\n        Convert tz-aware Timestamp to anothe...   \n",
       "14357  \\n        Add numeric operations to the GroupB...   \n",
       "3560     provide attribute-style access to a nested dict   \n",
       "9                                                   None   \n",
       "2253   str(object='') -> str\\nstr(bytes_or_buffer[, e...   \n",
       "...                                                  ...   \n",
       "6602                   the real part of a complex number   \n",
       "6601              the imaginary part of a complex number   \n",
       "6600   complex.conjugate() -> complex\\n\\nReturn the c...   \n",
       "6599   Create a complex number from a real part and a...   \n",
       "0      \\npandas - a powerful data analysis and manipu...   \n",
       "\n",
       "                                                 parents  \\\n",
       "2049   [[_na_value], [DatetimeTZDtype], [Index], [Int...   \n",
       "14357             [[DataFrameGroupBy], [Path], [Accent]]   \n",
       "3560                   [[options], [options], [options]]   \n",
       "9      [[Categorical], [DatetimeIndex], [_dateutil_pa...   \n",
       "2253                                    [[base], [base]]   \n",
       "...                                                  ...   \n",
       "6602                                         [[complex]]   \n",
       "6601                                         [[complex]]   \n",
       "6600                                         [[complex]]   \n",
       "6599                                              [[np]]   \n",
       "0                                                     []   \n",
       "\n",
       "                                                    kids  \\\n",
       "2049                                                  []   \n",
       "14357                                                 []   \n",
       "3560                                                  []   \n",
       "9                                                     []   \n",
       "2253                                                  []   \n",
       "...                                                  ...   \n",
       "6602                                                  []   \n",
       "6601                                                  []   \n",
       "6600                                                  []   \n",
       "6599                       [[conjugate], [imag], [real]]   \n",
       "0      [[Categorical], [CategoricalDtype], [Categoric...   \n",
       "\n",
       "                                                   names  level  p_ct  k_ct  \n",
       "2049   [pd.DatetimeIndex._na_value.astimezone, constr...      3    11     0  \n",
       "14357  [pd.core.groupby.DataFrameGroupBy._add_numeric...      4     3     0  \n",
       "3560   [pd._config.config.options.compute, io, plotting]      4     3     0  \n",
       "9      [pd.Categorical._concat_same_type, _add_arithm...      2     3     0  \n",
       "2253                 [pd.DatetimeTZDtype.base.name, str]      3     2     0  \n",
       "...                                                  ...    ...   ...   ...  \n",
       "6602                     [pd._hashtable.np.complex.real]      4     1     0  \n",
       "6601                     [pd._hashtable.np.complex.imag]      4     1     0  \n",
       "6600                [pd._hashtable.np.complex.conjugate]      4     1     0  \n",
       "6599                          [pd._hashtable.np.complex]      3     1     3  \n",
       "0                                                   [pd]      0     0    60  \n",
       "\n",
       "[19797 rows x 8 columns]"
      ]
     },
     "execution_count": 398,
     "metadata": {},
     "output_type": "execute_result"
    }
   ],
   "source": [
    "stats.sort_values(by=\"p_ct\",ascending=False)"
   ]
  },
  {
   "cell_type": "markdown",
   "metadata": {},
   "source": [
    "dt.docs"
   ]
  },
  {
   "cell_type": "code",
   "execution_count": null,
   "metadata": {},
   "outputs": [],
   "source": []
  }
 ],
 "metadata": {
  "kernelspec": {
   "display_name": "Python 3",
   "language": "python",
   "name": "python3"
  },
  "language_info": {
   "codemirror_mode": {
    "name": "ipython",
    "version": 3
   },
   "file_extension": ".py",
   "mimetype": "text/x-python",
   "name": "python",
   "nbconvert_exporter": "python",
   "pygments_lexer": "ipython3",
   "version": "3.7.4"
  }
 },
 "nbformat": 4,
 "nbformat_minor": 4
}
