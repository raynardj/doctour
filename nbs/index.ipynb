{
 "cells": [
  {
   "cell_type": "markdown",
   "metadata": {},
   "source": [
    "# Doctour\n",
    "\n",
    "![License: MIT](https://img.shields.io/badge/License-MIT-blue.svg)\n",
    "\n",
    "An nasty way to parse python knowledge\n",
    "\n",
    "### Tutorial\n",
    "\n",
    "#### Installation\n",
    "Plese install on [anaconda3](https://www.anaconda.com/distribution/)\n",
    "```shell\n",
    "python -m pip install git+https://github.com/raynardj/doctour\n",
    "```\n",
    "#### Running\n",
    "On your terminal, the default port is 8080, Now visit [http://localhost:8080](http://localhost:8080) for web UI\n",
    "```shell\n",
    "doctour\n",
    "```\n",
    "\n",
    "Or assgin a port \n",
    "```shell\n",
    "doctour --port=8001\n",
    "```"
   ]
  },
  {
   "cell_type": "markdown",
   "metadata": {},
   "source": [
    "## Exam variable during your coding"
   ]
  },
  {
   "cell_type": "markdown",
   "metadata": {},
   "source": [
    "eg. while you're doing nlp and using lstm, you wonder what the code in pytorch is, what's its inheritance structure, which of the functions was defined in the lstm code, which other functions are inherited from its ancestors"
   ]
  },
  {
   "cell_type": "code",
   "execution_count": 1,
   "metadata": {},
   "outputs": [],
   "source": [
    "from torch import nn\n",
    "import numpy as np\n",
    "import doctour"
   ]
  },
  {
   "cell_type": "markdown",
   "metadata": {},
   "source": [
    "you can exam class, fuction, module, variable..."
   ]
  },
  {
   "cell_type": "code",
   "execution_count": 2,
   "metadata": {},
   "outputs": [
    {
     "name": "stdout",
     "output_type": "stream",
     "text": [
      "please visit http://localhost:8080/doc/read/LSTM_173834/140681093056304/\n"
     ]
    },
    {
     "data": {
      "text/plain": [
       "<DocTour:LSTM_173834>"
      ]
     },
     "execution_count": 2,
     "metadata": {},
     "output_type": "execute_result"
    }
   ],
   "source": [
    "doctour.exam(nn.LSTM)"
   ]
  }
 ],
 "metadata": {
  "kernelspec": {
   "display_name": "Python 3",
   "language": "python",
   "name": "python3"
  },
  "language_info": {
   "codemirror_mode": {
    "name": "ipython",
    "version": 3
   },
   "file_extension": ".py",
   "mimetype": "text/x-python",
   "name": "python",
   "nbconvert_exporter": "python",
   "pygments_lexer": "ipython3",
   "version": "3.7.4"
  }
 },
 "nbformat": 4,
 "nbformat_minor": 2
}
