{
 "cells": [
  {
   "cell_type": "markdown",
   "metadata": {},
   "source": [
    "# DocTour "
   ]
  },
  {
   "cell_type": "code",
   "execution_count": 24,
   "metadata": {},
   "outputs": [],
   "source": [
    "import pandas as pd\n",
    "import inspect"
   ]
  },
  {
   "cell_type": "code",
   "execution_count": 25,
   "metadata": {},
   "outputs": [],
   "source": [
    "class singleDoc(object):\n",
    "    def __init__(self, name,doc=\"\",level = -1):\n",
    "        self.name = name.split(\".\")[-1]\n",
    "        self.doc = doc if doc else \"\"\n",
    "        self.parents = []\n",
    "        self.kids = []\n",
    "        self.names = []\n",
    "        self.names.append(name)\n",
    "        self.level = level\n",
    "        self.source = \"\"\n",
    "        \n",
    "    def __repr__(self):\n",
    "        return f\"<{self.name}>\"\n",
    "#         return f\"\"\"\n",
    "#         [Name:\\t{self.name}][Level:\\t{self.level}][Names:{len(self.names)}]\n",
    "#         \"\"\"\n",
    "    \n",
    "    def new_parent(self,parent):\n",
    "        if parent:\n",
    "            self.parents.append(parent)\n",
    "            parent.kids.append(self)\n",
    "            \n",
    "    def new_name(self,nname):\n",
    "        self.names.append(nname)\n",
    "        \n",
    "    def to_dicts(self,*cols):\n",
    "        return dict((col,getattr(self,col)) for col in cols)\n"
   ]
  },
  {
   "cell_type": "code",
   "execution_count": 26,
   "metadata": {},
   "outputs": [],
   "source": [
    "def mv_attr(*args):\n",
    "    args_kv = dict((a,f\"__{a}__\") for a in args)\n",
    "    def move(src,dst):\n",
    "        for da,sa in args_kv.items():\n",
    "            if hasattr(src, sa):\n",
    "                setattr(dst, da, getattr(src, sa))\n",
    "    return move\n",
    "\n",
    "def get_source(obj):\n",
    "    try: return inspect.getsource(obj)\n",
    "    except: return \"\""
   ]
  },
  {
   "cell_type": "code",
   "execution_count": 27,
   "metadata": {},
   "outputs": [],
   "source": [
    "moves = mv_attr(\"doc\")"
   ]
  },
  {
   "cell_type": "code",
   "execution_count": 28,
   "metadata": {},
   "outputs": [],
   "source": [
    "class docTour(object):\n",
    "    def __init__(self,root_obj,root_name, load_source = False):\n",
    "        self.docs = dict()\n",
    "        self.root_obj = root_obj\n",
    "        self.load_source = load_source\n",
    "        self.doc_parser(self.root_obj,root_name,name_chain = root_name)\n",
    "        self.df = self.to_df()\n",
    "        \n",
    "    def mid(self,obj):\n",
    "        \"\"\"\n",
    "        memory address\n",
    "        \"\"\"\n",
    "        return hex(id(obj))\n",
    "    \n",
    "    def sort_score(self,df,score_field = \"score\"):\n",
    "        return df.sort_values(by = score_field, ascending = False)\n",
    "    \n",
    "    def sch_name_short(self, nm):\n",
    "        return self.sort_score(self.df[self.df.name.str.contains(nm)])\n",
    "    \n",
    "    def to_df(self):\n",
    "        df = pd.DataFrame(list(i.to_dicts(\"name\",\"doc\",\"parents\",\"kids\",\"names\",\"level\",\"source\") for i in self.docs.values()))\n",
    "        df[\"p_ct\"] = df.parents.apply(len)\n",
    "        df[\"k_ct\"] = df.kids.apply(len)\n",
    "        df[\"score\"] = df[\"k_ct\"]+df[\"p_ct\"] - df[\"level\"]*2\n",
    "        return df\n",
    "                        \n",
    "    def doc_parser(self,obj,name,level = 0,name_chain = \"\",parent = None):\n",
    "        \"\"\"\n",
    "        Parse the sub structure of an object and tracing its documentation\n",
    "        obj: python class/ object /function\n",
    "        name: str, name of the object\n",
    "        level:int, level count from the root obj\n",
    "        name_chain: str\n",
    "        parent: singleDoc,\n",
    "        \"\"\"\n",
    "        addr = self.mid(obj)\n",
    "        if addr in self.docs:\n",
    "            if type(self.docs[addr])==singleDoc:\n",
    "                sd = self.docs[addr]\n",
    "                sd.new_name(name_chain)\n",
    "                sd.new_parent(parent)\n",
    "            return None\n",
    "        \n",
    "        if hasattr(obj,\"__doc__\"):\n",
    "            sd = singleDoc(name_chain,level = level,)\n",
    "            moves(obj,sd)\n",
    "            sd.new_parent(parent)\n",
    "            if self.load_source:\n",
    "                sd.source = get_source(obj)\n",
    "            self.docs[addr] = sd\n",
    "\n",
    "        for attr_name in dir(obj):\n",
    "            sub_obj = getattr(obj,attr_name)\n",
    "            name_chain_ = name_chain+\".\"+attr_name\n",
    "            if self.mid(sub_obj) in self.docs:\n",
    "                sd = self.docs[self.mid(sub_obj)]\n",
    "                sd.new_name(name_chain_)\n",
    "                sd.new_parent(self.docs[addr])\n",
    "                if self.load_source:\n",
    "                    sd.source = get_source(sub_obj)\n",
    "                continue\n",
    "            elif \"__\" not in attr_name:\n",
    "                if level<6:\n",
    "                    try:\n",
    "                        self.doc_parser(getattr(obj,attr_name),attr_name,level=level+1,name_chain = name_chain_,parent = self.docs[addr])\n",
    "                    except Exception as e:\n",
    "                        print(f\"[ERROR]>>{name_chain_}\")"
   ]
  },
  {
   "cell_type": "code",
   "execution_count": 29,
   "metadata": {},
   "outputs": [],
   "source": [
    "import tensorflow"
   ]
  },
  {
   "cell_type": "code",
   "execution_count": 30,
   "metadata": {},
   "outputs": [
    {
     "name": "stdout",
     "output_type": "stream",
     "text": [
      "[ERROR]>>tensorflow._api.v2.audio._sys.displayhook._\n",
      "[ERROR]>>tensorflow._api.v2.compat.v1.AttrValue.DESCRIPTOR\n",
      "[ERROR]>>tensorflow._api.v2.compat.v1.ConfigProto.DESCRIPTOR\n",
      "[ERROR]>>tensorflow._api.v2.compat.v1.Event.DESCRIPTOR\n",
      "[ERROR]>>tensorflow._api.v2.compat.v1.GPUOptions.DESCRIPTOR\n",
      "[ERROR]>>tensorflow._api.v2.compat.v1.GraphDef.DESCRIPTOR\n",
      "[ERROR]>>tensorflow._api.v2.compat.v1.GraphOptions.DESCRIPTOR\n",
      "[ERROR]>>tensorflow._api.v2.compat.v1.HistogramProto.DESCRIPTOR\n",
      "[ERROR]>>tensorflow._api.v2.compat.v1.LogMessage.DESCRIPTOR\n",
      "[ERROR]>>tensorflow._api.v2.compat.v1.MetaGraphDef.DESCRIPTOR\n",
      "[ERROR]>>tensorflow._api.v2.compat.v1.NameAttrList.DESCRIPTOR\n",
      "[ERROR]>>tensorflow._api.v2.compat.v1.NodeDef.DESCRIPTOR\n",
      "[ERROR]>>tensorflow._api.v2.compat.v1.OptimizerOptions.DESCRIPTOR\n",
      "[ERROR]>>tensorflow._api.v2.compat.v1.RunMetadata.DESCRIPTOR\n",
      "[ERROR]>>tensorflow._api.v2.compat.v1.RunOptions.DESCRIPTOR\n",
      "[ERROR]>>tensorflow._api.v2.compat.v1.SessionLog.DESCRIPTOR\n",
      "[ERROR]>>tensorflow._api.v2.compat.v1.Summary.DESCRIPTOR\n",
      "[ERROR]>>tensorflow._api.v2.compat.v1.SummaryMetadata.DESCRIPTOR\n",
      "[ERROR]>>tensorflow._api.v2.compat.v1.TensorInfo.DESCRIPTOR\n",
      "[ERROR]>>tensorflow._api.v2.compat.v1.bfloat16._as_ref\n",
      "[ERROR]>>tensorflow._api.v2.compat.v1.bfloat16\n",
      "[ERROR]>>tensorflow._api.v2.compat.v1.bool._as_ref\n",
      "[ERROR]>>tensorflow._api.v2.compat.v1.bool\n",
      "[ERROR]>>tensorflow._api.v2.compat.v1.complex128._as_ref\n",
      "[ERROR]>>tensorflow._api.v2.compat.v1.complex128\n",
      "[ERROR]>>tensorflow._api.v2.compat.v1.complex64._as_ref\n",
      "[ERROR]>>tensorflow._api.v2.compat.v1.complex64\n",
      "[ERROR]>>tensorflow._api.v2.compat.v1.dtypes.float16\n",
      "[ERROR]>>tensorflow._api.v2.compat.v1.dtypes.qint16\n",
      "[ERROR]>>tensorflow._api.v2.compat.v1.dtypes.qint32\n",
      "[ERROR]>>tensorflow._api.v2.compat.v1.dtypes.qint8\n",
      "[ERROR]>>tensorflow._api.v2.compat.v1.dtypes.quint16\n",
      "[ERROR]>>tensorflow._api.v2.compat.v1.dtypes.quint8\n",
      "[ERROR]>>tensorflow._api.v2.compat.v1.dtypes.resource\n",
      "[ERROR]>>tensorflow._api.v2.compat.v1.dtypes.string\n",
      "[ERROR]>>tensorflow._api.v2.compat.v1.dtypes.variant\n"
     ]
    },
    {
     "name": "stderr",
     "output_type": "stream",
     "text": [
      "/Users/salvor/anaconda3/lib/python3.7/site-packages/ipykernel_launcher.py:54: DeprecationWarning: `input_splitter` is deprecated since IPython 7.0, prefer `input_transformer_manager`.\n"
     ]
    },
    {
     "name": "stdout",
     "output_type": "stream",
     "text": [
      "[ERROR]>>tensorflow._importlib._bootstrap._bootstrap_external.builtins.type\n",
      "[ERROR]>>tensorflow._importlib.abc.abc.ABCMeta\n",
      "CPU times: user 662 ms, sys: 17.2 ms, total: 679 ms\n",
      "Wall time: 689 ms\n"
     ]
    }
   ],
   "source": [
    "%time dt = docTour(tensorflow,\"tensorflow\")"
   ]
  },
  {
   "cell_type": "code",
   "execution_count": 31,
   "metadata": {},
   "outputs": [],
   "source": [
    "gen = iter(dt.docs.items())"
   ]
  },
  {
   "cell_type": "code",
   "execution_count": 32,
   "metadata": {},
   "outputs": [
    {
     "data": {
      "text/plain": [
       "('0x120f49a70', <tensorflow>)"
      ]
     },
     "execution_count": 32,
     "metadata": {},
     "output_type": "execute_result"
    }
   ],
   "source": [
    "next(gen)"
   ]
  },
  {
   "cell_type": "code",
   "execution_count": 33,
   "metadata": {},
   "outputs": [
    {
     "name": "stdout",
     "output_type": "stream",
     "text": [
      "9137\n"
     ]
    }
   ],
   "source": [
    "print(len(dt.docs))"
   ]
  },
  {
   "cell_type": "code",
   "execution_count": 34,
   "metadata": {},
   "outputs": [],
   "source": [
    "stats = dt.to_df()"
   ]
  },
  {
   "cell_type": "code",
   "execution_count": 35,
   "metadata": {},
   "outputs": [
    {
     "data": {
      "text/html": [
       "<div>\n",
       "<style scoped>\n",
       "    .dataframe tbody tr th:only-of-type {\n",
       "        vertical-align: middle;\n",
       "    }\n",
       "\n",
       "    .dataframe tbody tr th {\n",
       "        vertical-align: top;\n",
       "    }\n",
       "\n",
       "    .dataframe thead th {\n",
       "        text-align: right;\n",
       "    }\n",
       "</style>\n",
       "<table border=\"1\" class=\"dataframe\">\n",
       "  <thead>\n",
       "    <tr style=\"text-align: right;\">\n",
       "      <th></th>\n",
       "      <th>name</th>\n",
       "      <th>doc</th>\n",
       "      <th>parents</th>\n",
       "      <th>kids</th>\n",
       "      <th>names</th>\n",
       "      <th>level</th>\n",
       "      <th>source</th>\n",
       "      <th>p_ct</th>\n",
       "      <th>k_ct</th>\n",
       "      <th>score</th>\n",
       "    </tr>\n",
       "  </thead>\n",
       "  <tbody>\n",
       "    <tr>\n",
       "      <th>1140</th>\n",
       "      <td>FromString</td>\n",
       "      <td>Creates new method instance from given seriali...</td>\n",
       "      <td>[&lt;Event&gt;, &lt;Event&gt;, &lt;_tf_api_names_v1&gt;, &lt;_tf_ap...</td>\n",
       "      <td>[&lt;isupper&gt;, &lt;isupper&gt;, &lt;isupper&gt;, &lt;_decorator_...</td>\n",
       "      <td>[tensorflow._api.v2.compat.v1.Event.FromString...</td>\n",
       "      <td>6</td>\n",
       "      <td></td>\n",
       "      <td>20956</td>\n",
       "      <td>7</td>\n",
       "      <td>20951</td>\n",
       "    </tr>\n",
       "    <tr>\n",
       "      <th>11</th>\n",
       "      <td>_decorator_argspec</td>\n",
       "      <td>None</td>\n",
       "      <td>[&lt;_tf_decorator&gt;, &lt;_decorator_argspec&gt;, &lt;maket...</td>\n",
       "      <td>[&lt;_decorator_argspec&gt;, &lt;bit_length&gt;, &lt;bit_leng...</td>\n",
       "      <td>[tensorflow.Assert._tf_decorator._decorator_ar...</td>\n",
       "      <td>3</td>\n",
       "      <td></td>\n",
       "      <td>15674</td>\n",
       "      <td>4</td>\n",
       "      <td>15672</td>\n",
       "    </tr>\n",
       "    <tr>\n",
       "      <th>605</th>\n",
       "      <td>isupper</td>\n",
       "      <td>Return True if the string is an uppercase stri...</td>\n",
       "      <td>[&lt;_decorator_doc&gt;, &lt;_decorator_doc&gt;, &lt;_decorat...</td>\n",
       "      <td>[&lt;bit_length&gt;, &lt;bit_length&gt;, &lt;bit_length&gt;, &lt;_d...</td>\n",
       "      <td>[tensorflow.TensorArray.close._tf_decorator._d...</td>\n",
       "      <td>5</td>\n",
       "      <td></td>\n",
       "      <td>7430</td>\n",
       "      <td>6</td>\n",
       "      <td>7426</td>\n",
       "    </tr>\n",
       "    <tr>\n",
       "      <th>1268</th>\n",
       "      <td>FromString</td>\n",
       "      <td>Creates new method instance from given seriali...</td>\n",
       "      <td>[&lt;GraphOptions&gt;, &lt;GraphOptions&gt;, &lt;_extensions_...</td>\n",
       "      <td>[&lt;FromString&gt;, &lt;FromString&gt;, &lt;FromString&gt;, &lt;_d...</td>\n",
       "      <td>[tensorflow._api.v2.compat.v1.GraphOptions.Fro...</td>\n",
       "      <td>6</td>\n",
       "      <td></td>\n",
       "      <td>3316</td>\n",
       "      <td>10</td>\n",
       "      <td>3314</td>\n",
       "    </tr>\n",
       "    <tr>\n",
       "      <th>47</th>\n",
       "      <td>deleter</td>\n",
       "      <td>Descriptor to change the deleter on a property.</td>\n",
       "      <td>[&lt;is_numpy_compatible&gt;, &lt;fget&gt;, &lt;fget&gt;, &lt;fget&gt;...</td>\n",
       "      <td>[&lt;_decorator_argspec&gt;, &lt;is_numpy_compatible&gt;, ...</td>\n",
       "      <td>[tensorflow.DType.is_numpy_compatible.deleter,...</td>\n",
       "      <td>3</td>\n",
       "      <td></td>\n",
       "      <td>2585</td>\n",
       "      <td>3</td>\n",
       "      <td>2582</td>\n",
       "    </tr>\n",
       "    <tr>\n",
       "      <th>...</th>\n",
       "      <td>...</td>\n",
       "      <td>...</td>\n",
       "      <td>...</td>\n",
       "      <td>...</td>\n",
       "      <td>...</td>\n",
       "      <td>...</td>\n",
       "      <td>...</td>\n",
       "      <td>...</td>\n",
       "      <td>...</td>\n",
       "      <td>...</td>\n",
       "    </tr>\n",
       "    <tr>\n",
       "      <th>4614</th>\n",
       "      <td>cosine_decay</td>\n",
       "      <td>Applies cosine decay to the learning rate.\\n\\n...</td>\n",
       "      <td>[&lt;train&gt;]</td>\n",
       "      <td>[&lt;_decorator_argspec&gt;, &lt;_decorator_argspec&gt;, &lt;...</td>\n",
       "      <td>[tensorflow._api.v2.compat.v1.train.cosine_decay]</td>\n",
       "      <td>6</td>\n",
       "      <td></td>\n",
       "      <td>1</td>\n",
       "      <td>3</td>\n",
       "      <td>-8</td>\n",
       "    </tr>\n",
       "    <tr>\n",
       "      <th>4612</th>\n",
       "      <td>checkpoint_exists</td>\n",
       "      <td>Checks whether a V1 or V2 checkpoint exists wi...</td>\n",
       "      <td>[&lt;train&gt;]</td>\n",
       "      <td>[&lt;_decorator_argspec&gt;, &lt;_decorator_argspec&gt;, &lt;...</td>\n",
       "      <td>[tensorflow._api.v2.compat.v1.train.checkpoint...</td>\n",
       "      <td>6</td>\n",
       "      <td></td>\n",
       "      <td>1</td>\n",
       "      <td>3</td>\n",
       "      <td>-8</td>\n",
       "    </tr>\n",
       "    <tr>\n",
       "      <th>4611</th>\n",
       "      <td>batch_join</td>\n",
       "      <td>Runs a list of tensors to fill a queue to crea...</td>\n",
       "      <td>[&lt;train&gt;]</td>\n",
       "      <td>[&lt;_decorator_argspec&gt;, &lt;_decorator_argspec&gt;]</td>\n",
       "      <td>[tensorflow._api.v2.compat.v1.train.batch_join]</td>\n",
       "      <td>6</td>\n",
       "      <td></td>\n",
       "      <td>1</td>\n",
       "      <td>2</td>\n",
       "      <td>-9</td>\n",
       "    </tr>\n",
       "    <tr>\n",
       "      <th>4610</th>\n",
       "      <td>batch</td>\n",
       "      <td>Creates batches of tensors in `tensors`. (depr...</td>\n",
       "      <td>[&lt;train&gt;]</td>\n",
       "      <td>[&lt;_decorator_argspec&gt;, &lt;_decorator_argspec&gt;]</td>\n",
       "      <td>[tensorflow._api.v2.compat.v1.train.batch]</td>\n",
       "      <td>6</td>\n",
       "      <td></td>\n",
       "      <td>1</td>\n",
       "      <td>2</td>\n",
       "      <td>-9</td>\n",
       "    </tr>\n",
       "    <tr>\n",
       "      <th>0</th>\n",
       "      <td>tensorflow</td>\n",
       "      <td>TensorFlow root package</td>\n",
       "      <td>[]</td>\n",
       "      <td>[&lt;AggregationMethod&gt;, &lt;Assert&gt;, &lt;CriticalSecti...</td>\n",
       "      <td>[tensorflow]</td>\n",
       "      <td>0</td>\n",
       "      <td></td>\n",
       "      <td>0</td>\n",
       "      <td>294</td>\n",
       "      <td>294</td>\n",
       "    </tr>\n",
       "  </tbody>\n",
       "</table>\n",
       "<p>9137 rows × 10 columns</p>\n",
       "</div>"
      ],
      "text/plain": [
       "                    name                                                doc  \\\n",
       "1140          FromString  Creates new method instance from given seriali...   \n",
       "11    _decorator_argspec                                               None   \n",
       "605              isupper  Return True if the string is an uppercase stri...   \n",
       "1268          FromString  Creates new method instance from given seriali...   \n",
       "47               deleter    Descriptor to change the deleter on a property.   \n",
       "...                  ...                                                ...   \n",
       "4614        cosine_decay  Applies cosine decay to the learning rate.\\n\\n...   \n",
       "4612   checkpoint_exists  Checks whether a V1 or V2 checkpoint exists wi...   \n",
       "4611          batch_join  Runs a list of tensors to fill a queue to crea...   \n",
       "4610               batch  Creates batches of tensors in `tensors`. (depr...   \n",
       "0             tensorflow                            TensorFlow root package   \n",
       "\n",
       "                                                parents  \\\n",
       "1140  [<Event>, <Event>, <_tf_api_names_v1>, <_tf_ap...   \n",
       "11    [<_tf_decorator>, <_decorator_argspec>, <maket...   \n",
       "605   [<_decorator_doc>, <_decorator_doc>, <_decorat...   \n",
       "1268  [<GraphOptions>, <GraphOptions>, <_extensions_...   \n",
       "47    [<is_numpy_compatible>, <fget>, <fget>, <fget>...   \n",
       "...                                                 ...   \n",
       "4614                                          [<train>]   \n",
       "4612                                          [<train>]   \n",
       "4611                                          [<train>]   \n",
       "4610                                          [<train>]   \n",
       "0                                                    []   \n",
       "\n",
       "                                                   kids  \\\n",
       "1140  [<isupper>, <isupper>, <isupper>, <_decorator_...   \n",
       "11    [<_decorator_argspec>, <bit_length>, <bit_leng...   \n",
       "605   [<bit_length>, <bit_length>, <bit_length>, <_d...   \n",
       "1268  [<FromString>, <FromString>, <FromString>, <_d...   \n",
       "47    [<_decorator_argspec>, <is_numpy_compatible>, ...   \n",
       "...                                                 ...   \n",
       "4614  [<_decorator_argspec>, <_decorator_argspec>, <...   \n",
       "4612  [<_decorator_argspec>, <_decorator_argspec>, <...   \n",
       "4611       [<_decorator_argspec>, <_decorator_argspec>]   \n",
       "4610       [<_decorator_argspec>, <_decorator_argspec>]   \n",
       "0     [<AggregationMethod>, <Assert>, <CriticalSecti...   \n",
       "\n",
       "                                                  names  level source   p_ct  \\\n",
       "1140  [tensorflow._api.v2.compat.v1.Event.FromString...      6         20956   \n",
       "11    [tensorflow.Assert._tf_decorator._decorator_ar...      3         15674   \n",
       "605   [tensorflow.TensorArray.close._tf_decorator._d...      5          7430   \n",
       "1268  [tensorflow._api.v2.compat.v1.GraphOptions.Fro...      6          3316   \n",
       "47    [tensorflow.DType.is_numpy_compatible.deleter,...      3          2585   \n",
       "...                                                 ...    ...    ...    ...   \n",
       "4614  [tensorflow._api.v2.compat.v1.train.cosine_decay]      6             1   \n",
       "4612  [tensorflow._api.v2.compat.v1.train.checkpoint...      6             1   \n",
       "4611    [tensorflow._api.v2.compat.v1.train.batch_join]      6             1   \n",
       "4610         [tensorflow._api.v2.compat.v1.train.batch]      6             1   \n",
       "0                                          [tensorflow]      0             0   \n",
       "\n",
       "      k_ct  score  \n",
       "1140     7  20951  \n",
       "11       4  15672  \n",
       "605      6   7426  \n",
       "1268    10   3314  \n",
       "47       3   2582  \n",
       "...    ...    ...  \n",
       "4614     3     -8  \n",
       "4612     3     -8  \n",
       "4611     2     -9  \n",
       "4610     2     -9  \n",
       "0      294    294  \n",
       "\n",
       "[9137 rows x 10 columns]"
      ]
     },
     "execution_count": 35,
     "metadata": {},
     "output_type": "execute_result"
    }
   ],
   "source": [
    "stats.sort_values(by=\"p_ct\",ascending=False)"
   ]
  },
  {
   "cell_type": "markdown",
   "metadata": {},
   "source": [
    "dt.docs"
   ]
  },
  {
   "cell_type": "code",
   "execution_count": 36,
   "metadata": {},
   "outputs": [
    {
     "data": {
      "text/html": [
       "<div>\n",
       "<style scoped>\n",
       "    .dataframe tbody tr th:only-of-type {\n",
       "        vertical-align: middle;\n",
       "    }\n",
       "\n",
       "    .dataframe tbody tr th {\n",
       "        vertical-align: top;\n",
       "    }\n",
       "\n",
       "    .dataframe thead th {\n",
       "        text-align: right;\n",
       "    }\n",
       "</style>\n",
       "<table border=\"1\" class=\"dataframe\">\n",
       "  <thead>\n",
       "    <tr style=\"text-align: right;\">\n",
       "      <th></th>\n",
       "      <th>name</th>\n",
       "      <th>doc</th>\n",
       "      <th>parents</th>\n",
       "      <th>kids</th>\n",
       "      <th>names</th>\n",
       "      <th>level</th>\n",
       "      <th>source</th>\n",
       "      <th>p_ct</th>\n",
       "      <th>k_ct</th>\n",
       "      <th>score</th>\n",
       "    </tr>\n",
       "  </thead>\n",
       "  <tbody>\n",
       "    <tr>\n",
       "      <th>1879</th>\n",
       "      <td>decode_json_example</td>\n",
       "      <td>Convert JSON-encoded Example records to binary...</td>\n",
       "      <td>[&lt;v1&gt;, &lt;io&gt;, &lt;v1&gt;, &lt;io&gt;, &lt;io&gt;]</td>\n",
       "      <td>[&lt;_decorator_argspec&gt;, &lt;FromString&gt;, &lt;FromStri...</td>\n",
       "      <td>[tensorflow._api.v2.compat.v1.decode_json_exam...</td>\n",
       "      <td>5</td>\n",
       "      <td></td>\n",
       "      <td>5</td>\n",
       "      <td>10</td>\n",
       "      <td>5</td>\n",
       "    </tr>\n",
       "    <tr>\n",
       "      <th>8817</th>\n",
       "      <td>model_from_json</td>\n",
       "      <td>Parses a JSON model configuration file and ret...</td>\n",
       "      <td>[&lt;models&gt;]</td>\n",
       "      <td>[&lt;FunctionType&gt;, &lt;_decorator_argspec&gt;, &lt;_decor...</td>\n",
       "      <td>[tensorflow.keras.models.model_from_json]</td>\n",
       "      <td>3</td>\n",
       "      <td></td>\n",
       "      <td>1</td>\n",
       "      <td>8</td>\n",
       "      <td>3</td>\n",
       "    </tr>\n",
       "    <tr>\n",
       "      <th>7780</th>\n",
       "      <td>to_json</td>\n",
       "      <td>Returns a JSON string containing the network c...</td>\n",
       "      <td>[&lt;LinearModel&gt;, &lt;WideDeepModel&gt;]</td>\n",
       "      <td>[&lt;FunctionType&gt;, &lt;_decorator_argspec&gt;, &lt;_decor...</td>\n",
       "      <td>[tensorflow.keras.experimental.LinearModel.to_...</td>\n",
       "      <td>4</td>\n",
       "      <td></td>\n",
       "      <td>2</td>\n",
       "      <td>8</td>\n",
       "      <td>2</td>\n",
       "    </tr>\n",
       "    <tr>\n",
       "      <th>9004</th>\n",
       "      <td>to_json</td>\n",
       "      <td>Returns a JSON string containing the timeserie...</td>\n",
       "      <td>[&lt;TimeseriesGenerator&gt;]</td>\n",
       "      <td>[&lt;FunctionType&gt;, &lt;_decorator_argspec&gt;, &lt;_decor...</td>\n",
       "      <td>[tensorflow.keras.preprocessing.sequence.Times...</td>\n",
       "      <td>5</td>\n",
       "      <td></td>\n",
       "      <td>1</td>\n",
       "      <td>8</td>\n",
       "      <td>-1</td>\n",
       "    </tr>\n",
       "    <tr>\n",
       "      <th>9023</th>\n",
       "      <td>to_json</td>\n",
       "      <td>Returns a JSON string containing the tokenizer...</td>\n",
       "      <td>[&lt;Tokenizer&gt;]</td>\n",
       "      <td>[&lt;FunctionType&gt;, &lt;_decorator_argspec&gt;, &lt;_decor...</td>\n",
       "      <td>[tensorflow.keras.preprocessing.text.Tokenizer...</td>\n",
       "      <td>5</td>\n",
       "      <td></td>\n",
       "      <td>1</td>\n",
       "      <td>7</td>\n",
       "      <td>-2</td>\n",
       "    </tr>\n",
       "  </tbody>\n",
       "</table>\n",
       "</div>"
      ],
      "text/plain": [
       "                     name                                                doc  \\\n",
       "1879  decode_json_example  Convert JSON-encoded Example records to binary...   \n",
       "8817      model_from_json  Parses a JSON model configuration file and ret...   \n",
       "7780              to_json  Returns a JSON string containing the network c...   \n",
       "9004              to_json  Returns a JSON string containing the timeserie...   \n",
       "9023              to_json  Returns a JSON string containing the tokenizer...   \n",
       "\n",
       "                               parents  \\\n",
       "1879    [<v1>, <io>, <v1>, <io>, <io>]   \n",
       "8817                        [<models>]   \n",
       "7780  [<LinearModel>, <WideDeepModel>]   \n",
       "9004           [<TimeseriesGenerator>]   \n",
       "9023                     [<Tokenizer>]   \n",
       "\n",
       "                                                   kids  \\\n",
       "1879  [<_decorator_argspec>, <FromString>, <FromStri...   \n",
       "8817  [<FunctionType>, <_decorator_argspec>, <_decor...   \n",
       "7780  [<FunctionType>, <_decorator_argspec>, <_decor...   \n",
       "9004  [<FunctionType>, <_decorator_argspec>, <_decor...   \n",
       "9023  [<FunctionType>, <_decorator_argspec>, <_decor...   \n",
       "\n",
       "                                                  names  level source  p_ct  \\\n",
       "1879  [tensorflow._api.v2.compat.v1.decode_json_exam...      5            5   \n",
       "8817          [tensorflow.keras.models.model_from_json]      3            1   \n",
       "7780  [tensorflow.keras.experimental.LinearModel.to_...      4            2   \n",
       "9004  [tensorflow.keras.preprocessing.sequence.Times...      5            1   \n",
       "9023  [tensorflow.keras.preprocessing.text.Tokenizer...      5            1   \n",
       "\n",
       "      k_ct  score  \n",
       "1879    10      5  \n",
       "8817     8      3  \n",
       "7780     8      2  \n",
       "9004     8     -1  \n",
       "9023     7     -2  "
      ]
     },
     "execution_count": 36,
     "metadata": {},
     "output_type": "execute_result"
    }
   ],
   "source": [
    "dt.sch_name_short(\"json\")"
   ]
  },
  {
   "cell_type": "code",
   "execution_count": 75,
   "metadata": {},
   "outputs": [
    {
     "data": {
      "text/plain": [
       "'/Users/salvor/anaconda3/lib/python3.7/site-packages/forgebox/ftorch/__init__.py'"
      ]
     },
     "execution_count": 75,
     "metadata": {},
     "output_type": "execute_result"
    }
   ],
   "source": [
    "inspect.getfile(ftorch)"
   ]
  },
  {
   "cell_type": "code",
   "execution_count": 89,
   "metadata": {},
   "outputs": [
    {
     "name": "stdout",
     "output_type": "stream",
     "text": [
      "[(<class 'forgebox.train.Trainer'>, (<class 'object'>,)), [(<class 'forgebox.ftorch.train.Trainer'>, (<class 'forgebox.train.Trainer'>,))]]\n"
     ]
    }
   ],
   "source": [
    "print(inspect.getclasstree([ftorch.train.Trainer]))"
   ]
  },
  {
   "cell_type": "code",
   "execution_count": 69,
   "metadata": {},
   "outputs": [],
   "source": [
    "import forgebox"
   ]
  },
  {
   "cell_type": "code",
   "execution_count": 74,
   "metadata": {},
   "outputs": [],
   "source": [
    "from forgebox import ftorch"
   ]
  },
  {
   "cell_type": "code",
   "execution_count": 38,
   "metadata": {},
   "outputs": [],
   "source": [
    "import importlib"
   ]
  },
  {
   "cell_type": "code",
   "execution_count": 43,
   "metadata": {},
   "outputs": [
    {
     "ename": "ModuleNotFoundError",
     "evalue": "No module named 'pandas.DataFrame'",
     "output_type": "error",
     "traceback": [
      "\u001b[0;31m---------------------------------------------------------------------------\u001b[0m",
      "\u001b[0;31mModuleNotFoundError\u001b[0m                       Traceback (most recent call last)",
      "\u001b[0;32m<ipython-input-43-e78a6db015ab>\u001b[0m in \u001b[0;36m<module>\u001b[0;34m\u001b[0m\n\u001b[0;32m----> 1\u001b[0;31m \u001b[0mimportlib\u001b[0m\u001b[0;34m.\u001b[0m\u001b[0mimport_module\u001b[0m\u001b[0;34m(\u001b[0m\u001b[0;34m\"pandas.DataFrame\"\u001b[0m\u001b[0;34m)\u001b[0m\u001b[0;34m\u001b[0m\u001b[0;34m\u001b[0m\u001b[0m\n\u001b[0m",
      "\u001b[0;32m~/anaconda3/lib/python3.7/importlib/__init__.py\u001b[0m in \u001b[0;36mimport_module\u001b[0;34m(name, package)\u001b[0m\n\u001b[1;32m    125\u001b[0m                 \u001b[0;32mbreak\u001b[0m\u001b[0;34m\u001b[0m\u001b[0;34m\u001b[0m\u001b[0m\n\u001b[1;32m    126\u001b[0m             \u001b[0mlevel\u001b[0m \u001b[0;34m+=\u001b[0m \u001b[0;36m1\u001b[0m\u001b[0;34m\u001b[0m\u001b[0;34m\u001b[0m\u001b[0m\n\u001b[0;32m--> 127\u001b[0;31m     \u001b[0;32mreturn\u001b[0m \u001b[0m_bootstrap\u001b[0m\u001b[0;34m.\u001b[0m\u001b[0m_gcd_import\u001b[0m\u001b[0;34m(\u001b[0m\u001b[0mname\u001b[0m\u001b[0;34m[\u001b[0m\u001b[0mlevel\u001b[0m\u001b[0;34m:\u001b[0m\u001b[0;34m]\u001b[0m\u001b[0;34m,\u001b[0m \u001b[0mpackage\u001b[0m\u001b[0;34m,\u001b[0m \u001b[0mlevel\u001b[0m\u001b[0;34m)\u001b[0m\u001b[0;34m\u001b[0m\u001b[0;34m\u001b[0m\u001b[0m\n\u001b[0m\u001b[1;32m    128\u001b[0m \u001b[0;34m\u001b[0m\u001b[0m\n\u001b[1;32m    129\u001b[0m \u001b[0;34m\u001b[0m\u001b[0m\n",
      "\u001b[0;32m~/anaconda3/lib/python3.7/importlib/_bootstrap.py\u001b[0m in \u001b[0;36m_gcd_import\u001b[0;34m(name, package, level)\u001b[0m\n",
      "\u001b[0;32m~/anaconda3/lib/python3.7/importlib/_bootstrap.py\u001b[0m in \u001b[0;36m_find_and_load\u001b[0;34m(name, import_)\u001b[0m\n",
      "\u001b[0;32m~/anaconda3/lib/python3.7/importlib/_bootstrap.py\u001b[0m in \u001b[0;36m_find_and_load_unlocked\u001b[0;34m(name, import_)\u001b[0m\n",
      "\u001b[0;31mModuleNotFoundError\u001b[0m: No module named 'pandas.DataFrame'"
     ]
    }
   ],
   "source": [
    "importlib.import_module(\"pandas\")"
   ]
  },
  {
   "cell_type": "code",
   "execution_count": null,
   "metadata": {},
   "outputs": [],
   "source": []
  }
 ],
 "metadata": {
  "kernelspec": {
   "display_name": "Python 3",
   "language": "python",
   "name": "python3"
  },
  "language_info": {
   "codemirror_mode": {
    "name": "ipython",
    "version": 3
   },
   "file_extension": ".py",
   "mimetype": "text/x-python",
   "name": "python",
   "nbconvert_exporter": "python",
   "pygments_lexer": "ipython3",
   "version": "3.7.4"
  }
 },
 "nbformat": 4,
 "nbformat_minor": 4
}