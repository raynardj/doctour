{
 "cells": [
  {
   "cell_type": "markdown",
   "metadata": {},
   "source": [
    "# Parsing Python\n",
    "> The core foundation of this entire package"
   ]
  },
  {
   "cell_type": "markdown",
   "metadata": {},
   "source": [
    "## SQL alchemy models/objects\n",
    "\n",
    "We use sqlalchemy orm to manage a single target."
   ]
  },
  {
   "cell_type": "code",
   "execution_count": null,
   "metadata": {},
   "outputs": [],
   "source": [
    "from sqlalchemy import Column, Text, Integer, ForeignKey\n",
    "from flask_appbuilder import Model\n",
    "from sqlalchemy.orm import relationship"
   ]
  },
  {
   "cell_type": "markdown",
   "metadata": {},
   "source": [
    "A docModel could be a class, a function or a module (all python)"
   ]
  },
  {
   "cell_type": "code",
   "execution_count": null,
   "metadata": {},
   "outputs": [],
   "source": [
    "class docModel(Model):\n",
    "    __tablename__ = \"docs\"\n",
    "    id = Column(Integer, primary_key=True, autoincrement=False)\n",
    "    name = Column(Text())\n",
    "    doc = Column(Text(), default=\"\")\n",
    "    names = Column(Text(), default=\"\")\n",
    "    level = Column(Integer(), default=-1)\n",
    "    source = Column(Text(), default=\"\")\n",
    "    path = Column(Text(), default=\"\")\n",
    "    code = Column(Text(), default=\"\")\n",
    "    ctype = Column(Text(), default=\"\")\n",
    "    alias = Column(Text(), default=\"\")\n",
    "\n",
    "    def __repr__(self):\n",
    "        return f\"<{self.name}>\"\n",
    "\n",
    "    def new_parent(self, parent):\n",
    "        if parent:\n",
    "            self.parents.append(parent)\n",
    "            parent.kids.append(self)\n",
    "\n",
    "    def to_dicts(self, *cols):\n",
    "        return dict((col, getattr(self, col)) for col in cols)"
   ]
  },
  {
   "cell_type": "markdown",
   "metadata": {},
   "source": [
    "Test a docModel"
   ]
  },
  {
   "cell_type": "code",
   "execution_count": null,
   "metadata": {},
   "outputs": [
    {
     "data": {
      "text/plain": [
       "<abc>"
      ]
     },
     "execution_count": null,
     "metadata": {},
     "output_type": "execute_result"
    }
   ],
   "source": [
    "abcdoc = docModel(name=\"abc\",names=\"abc,ABC\", level=2, ctype=\"function\",alias=\"abc\")\n",
    "abcdoc"
   ]
  },
  {
   "cell_type": "code",
   "execution_count": null,
   "metadata": {},
   "outputs": [
    {
     "data": {
      "text/plain": [
       "{'name': 'abc',\n",
       " 'names': 'abc,ABC',\n",
       " 'level': 2,\n",
       " 'ctype': 'function',\n",
       " 'alias': 'abc'}"
      ]
     },
     "execution_count": null,
     "metadata": {},
     "output_type": "execute_result"
    }
   ],
   "source": [
    "abcdoc.to_dicts(\"name\", \"names\", \"level\", \"ctype\", \"alias\")"
   ]
  },
  {
   "cell_type": "markdown",
   "metadata": {},
   "source": [
    "## Relations between targets\n",
    "There are 2 sorts of relation between 2 docModels"
   ]
  },
  {
   "cell_type": "markdown",
   "metadata": {},
   "source": [
    "### Attributes relation\n",
    "b is the attribute of a,  we can get b by ```a.b```, or ```getattr(a,\"b\")```"
   ]
  },
  {
   "cell_type": "code",
   "execution_count": null,
   "metadata": {},
   "outputs": [],
   "source": [
    "class docGraphModel(Model):\n",
    "    __tablename__ = \"doc_graph\"\n",
    "    id = Column(Integer, primary_key=True)\n",
    "    parent_id = Column(Integer(), ForeignKey(\"docs.id\"))\n",
    "    parent = relationship(docModel, foreign_keys=[parent_id])\n",
    "    kid_id = Column(Integer(), ForeignKey(\"docs.id\"))\n",
    "    kid = relationship(docModel, foreign_keys=[kid_id])\n",
    "    \n",
    "# Mapping the self-relate docs on attribute relations\n",
    "docModel.kids = relationship(docModel,\n",
    "                             secondary=\"doc_graph\",\n",
    "                             primaryjoin=(docModel.id == docGraphModel.parent_id),\n",
    "                             secondaryjoin=(docGraphModel.kid_id == docModel.id)\n",
    "                             )\n",
    "docModel.parents = relationship(docModel,\n",
    "                                secondary=\"doc_graph\",\n",
    "                                primaryjoin=(docModel.id == docGraphModel.kid_id),\n",
    "                                secondaryjoin=(docGraphModel.parent_id == docModel.id)\n",
    "                                )"
   ]
  },
  {
   "cell_type": "markdown",
   "metadata": {},
   "source": [
    "### Inheritance relation"
   ]
  },
  {
   "cell_type": "markdown",
   "metadata": {},
   "source": [
    "We define inheritance as following"
   ]
  },
  {
   "cell_type": "code",
   "execution_count": null,
   "metadata": {},
   "outputs": [],
   "source": [
    "class b(object):\n",
    "    fromb = \"b\"\n",
    "    pass\n",
    "\n",
    "class a(b):\n",
    "    froma = \"a\"\n",
    "    \n",
    "class c(a,b):\n",
    "    fromc = \"c\""
   ]
  },
  {
   "cell_type": "markdown",
   "metadata": {},
   "source": [
    "In this case we can say:\n",
    "* b is the descendant of object\n",
    "* a is the descendant of b\n",
    "* c is the descendant from a and b\n",
    "* b is the ancestor of a"
   ]
  },
  {
   "cell_type": "code",
   "execution_count": null,
   "metadata": {},
   "outputs": [
    {
     "data": {
      "text/plain": [
       "('a', 'b', 'c')"
      ]
     },
     "execution_count": null,
     "metadata": {},
     "output_type": "execute_result"
    }
   ],
   "source": [
    "c.froma, c.fromb,c.fromc"
   ]
  },
  {
   "cell_type": "code",
   "execution_count": null,
   "metadata": {},
   "outputs": [],
   "source": [
    "class inhGraphModel(Model):\n",
    "    __tablename__ = \"inh_graph\"\n",
    "    id = Column(Integer, primary_key=True)\n",
    "    anc_id = Column(Integer(), ForeignKey(\"docs.id\")) # ancestor\n",
    "    anc = relationship(docModel, foreign_keys=[anc_id])\n",
    "    des_id = Column(Integer(), ForeignKey(\"docs.id\")) # descendant\n",
    "    des = relationship(docModel, foreign_keys=[des_id])\n",
    "\n",
    "# Mappping the self-relate docs on class inheritance\n",
    "docModel.dess = relationship(docModel,\n",
    "                             secondary=\"inh_graph\",\n",
    "                             primaryjoin=(docModel.id == inhGraphModel.anc_id),\n",
    "                             secondaryjoin=(inhGraphModel.des_id == docModel.id)\n",
    "                             )\n",
    "docModel.ancs = relationship(docModel,\n",
    "                                secondary=\"inh_graph\",\n",
    "                                primaryjoin=(docModel.id == inhGraphModel.des_id),\n",
    "                                secondaryjoin=(inhGraphModel.anc_id == docModel.id)\n",
    "                                )"
   ]
  },
  {
   "cell_type": "markdown",
   "metadata": {},
   "source": [
    "## Parse a class, function, module \n",
    "of its attributes/being attributes of others, inheritances"
   ]
  },
  {
   "cell_type": "code",
   "execution_count": null,
   "metadata": {},
   "outputs": [],
   "source": [
    "# default_exp base.parse"
   ]
  },
  {
   "cell_type": "code",
   "execution_count": null,
   "metadata": {},
   "outputs": [],
   "source": [
    "# export\n",
    "from doctour.base.doc import docModel, docGraphModel, inhGraphModel"
   ]
  },
  {
   "cell_type": "code",
   "execution_count": null,
   "metadata": {},
   "outputs": [],
   "source": [
    "# export\n",
    "# hide\n",
    "import pandas as pd\n",
    "import inspect\n",
    "\n",
    "import logging\n",
    "from sqlalchemy import create_engine as ce\n",
    "from sqlalchemy.orm.session import sessionmaker\n",
    "import os"
   ]
  },
  {
   "cell_type": "code",
   "execution_count": null,
   "metadata": {},
   "outputs": [],
   "source": [
    "# export\n",
    "Session = sessionmaker()\n",
    "basedir = os.path.dirname(os.path.abspath(os.path.dirname(__file__)))+\"/app/dbs\""
   ]
  },
  {
   "cell_type": "code",
   "execution_count": null,
   "metadata": {},
   "outputs": [],
   "source": [
    "# hide\n",
    "Session = sessionmaker()\n",
    "basedir = \"/Users/salvor/Downloads/\""
   ]
  },
  {
   "cell_type": "markdown",
   "metadata": {},
   "source": [
    "### Some helper functions"
   ]
  },
  {
   "cell_type": "code",
   "execution_count": null,
   "metadata": {},
   "outputs": [],
   "source": [
    "# export\n",
    "def most_frequent(List): return max(set(List), key = List.count)\n",
    "\n",
    "def get_source(obj):\n",
    "    try:\n",
    "        return inspect.getsource(obj)\n",
    "    except:\n",
    "        return \"\"\n",
    "\n",
    "def get_path(obj):\n",
    "    try:\n",
    "        return inspect.getsourcefile(obj)\n",
    "    except:\n",
    "        return \"\"\n",
    "\n",
    "def checks(obj):\n",
    "    if inspect.ismodule(obj):return \"module\"\n",
    "    if inspect.isclass(obj):return \"class\"\n",
    "    if inspect.isfunction(obj):return \"function\"\n",
    "    return False\n",
    "\n",
    "def refresh_table(model,engine):\n",
    "    \"\"\"\n",
    "    Drop the existed table from database, if exist\n",
    "    In any case create a new table \n",
    "    \"\"\"\n",
    "    table = model.__table__\n",
    "    if table.exists(engine):\n",
    "        logging.info(f\"dropping existing table: {str(table)}\")\n",
    "        table.drop(engine)\n",
    "    logging.info(f\"creating a new table: {str(table)}\")\n",
    "    table.create(engine)"
   ]
  },
  {
   "cell_type": "markdown",
   "metadata": {},
   "source": [
    "### The core mechanism"
   ]
  },
  {
   "cell_type": "markdown",
   "metadata": {},
   "source": [
    "The core mechanism of this entire package"
   ]
  },
  {
   "cell_type": "code",
   "execution_count": null,
   "metadata": {},
   "outputs": [],
   "source": [
    "# export\n",
    "class docTour(object):\n",
    "    def __init__(self, root_obj, root_name,sess, load_source=False):\n",
    "        self.docs = dict()\n",
    "        self.inh_cache = set()\n",
    "        self.sd_list = list()\n",
    "        self.root_obj = root_obj\n",
    "        self.load_source = load_source\n",
    "        self.sess = sess  # sqla session\n",
    "        self.doc_parser(self.root_obj, root_name, name_chain=root_name)\n",
    "        self.vote_name()\n",
    "        logging.info(f\"{len(self.docs)} things found\")\n",
    "        logging.info(f\"saving [{root_name}] basics to db\")\n",
    "        self.sess.commit()\n",
    "        logging.info(f\"creating df for [{root_name}]\")\n",
    "        self.df = self.to_df()\n",
    "\n",
    "    def __len__(self):\n",
    "        return len(self.docs)\n",
    "\n",
    "    def mid(self, obj):\n",
    "        \"\"\"\n",
    "        memory address\n",
    "        \"\"\"\n",
    "        return id(obj)\n",
    "\n",
    "    def to_df(self):\n",
    "        df = pd.DataFrame(\n",
    "            list(i.to_dicts(\"id\",\"name\", \"doc\", \"path\", \"names\", \"level\", \"source\",\"ctype\",\"alias\") for i in self.docs.values()))\n",
    "        return df\n",
    "\n",
    "    def new_doc(self, name_chain, kid, parent, level,ctype):\n",
    "        \"\"\"\n",
    "        New docModel object\n",
    "        :param name_chain: name chain string\n",
    "        :param kid: the subject new  obj\n",
    "        :param parent: parent obj\n",
    "        :param level: int, level from root obj\n",
    "        :return: docModel object\n",
    "        \"\"\"\n",
    "        sd = docModel(id=id(kid), name=name_chain.split(\".\")[-1],\n",
    "                      names=name_chain, level=level, doc=str(kid.__doc__),\n",
    "                      ctype = ctype,\n",
    "                      )\n",
    "        if ctype==\"function\":\n",
    "            path = kid.__code__.co_filename\n",
    "            if path[-3:] == \".py\":\n",
    "                sd.path = path\n",
    "                sd.code = inspect.getsource(kid)\n",
    "        else:\n",
    "            sd.path = get_path(kid)\n",
    "        if ctype==\"class\":\n",
    "            self.parse_inh(kid)\n",
    "        if self.load_source:\n",
    "            sd.source = get_source(kid)\n",
    "\n",
    "        self.sess.add(sd)\n",
    "        self.sd_list.append(sd)\n",
    "\n",
    "        if parent:\n",
    "            dg = docGraphModel(parent_id=parent.id, kid_id=sd.id)\n",
    "            self.sess.add(dg)\n",
    "        return sd\n",
    "\n",
    "    def parse_inh(self,obj):\n",
    "        addr = self.mid(obj)\n",
    "        if addr in self.inh_cache:\n",
    "            return None\n",
    "        elif hasattr(obj,\"__bases__\"):\n",
    "            bases = obj.__bases__\n",
    "            if len(bases) == 0: return None\n",
    "\n",
    "            for b in bases:\n",
    "                name = obj.__name__\n",
    "                ig = inhGraphModel(anc_id=id(b), des_id=addr)\n",
    "                self.sess.add(ig)\n",
    "                self.parse_inh(b)\n",
    "                if id(b) not in self.docs:\n",
    "                    self.doc_parser(b,name,level=1, name_chain=name, parent=None)\n",
    "\n",
    "            self.inh_cache.add(addr)\n",
    "\n",
    "    def doc_parser(self, obj, name, level=0, name_chain=\"\", parent=None):\n",
    "        \"\"\"\n",
    "        Parse the sub structure of an object and tracing its documentation\n",
    "        obj: python class/ object /function\n",
    "        name: str, name of the object\n",
    "        level:int, level count from the root obj\n",
    "        name_chain: str\n",
    "        parent: docModel,\n",
    "        \"\"\"\n",
    "        addr = self.mid(obj)\n",
    "        ctype = checks(obj)\n",
    "        if ctype == False: return None\n",
    "        if addr in self.docs:\n",
    "            if type(self.docs[addr]) == docModel:\n",
    "                sd = self.docs[addr]\n",
    "                sd.names = sd.names +\",\" + name_chain\n",
    "                self.sess.add(sd)\n",
    "                if parent:\n",
    "                    dg = docGraphModel(parent_id=parent.id, kid_id=sd.id)\n",
    "                    self.sess.add(dg)\n",
    "            return None\n",
    "\n",
    "        if hasattr(obj, \"__doc__\"):\n",
    "            sd = self.new_doc(name_chain, obj, parent, level, ctype)\n",
    "            self.docs[addr] = sd\n",
    "\n",
    "        for attr_name in dir(obj):\n",
    "            sub_obj = getattr(obj, attr_name)\n",
    "            if checks(sub_obj)==False: continue\n",
    "            name_chain_ = name_chain + \".\" + attr_name\n",
    "            if self.mid(sub_obj) in self.docs:\n",
    "                sd = self.docs[self.mid(sub_obj)]\n",
    "                sd.names = sd.names +\",\"+ name_chain_\n",
    "\n",
    "                if self.load_source:\n",
    "                    sd.source = get_source(sub_obj)\n",
    "                self.sess.add(sd)\n",
    "                if parent:\n",
    "                    dg = docGraphModel(parent_id=self.docs[addr].id, kid_id=sd.id)\n",
    "                    self.sess.add(dg)\n",
    "                continue\n",
    "            elif \"__\" not in attr_name:\n",
    "                if level < 6:\n",
    "                    try:\n",
    "                        self.doc_parser(getattr(obj, attr_name), attr_name, level=level + 1, name_chain=name_chain_,\n",
    "                                        parent=self.docs[addr])\n",
    "                    except Exception as e:\n",
    "                        logging.error(f\"{name_chain_},\\t{e}\")\n",
    "\n",
    "    def vote_name(self):\n",
    "        logging.info(\"start voting for most frequent name\")\n",
    "        for sd in self.sd_list:\n",
    "            name_list = list(n.split(\".\")[-1] for n in sd.names.split(\",\"))\n",
    "            sd.name = most_frequent(name_list)\n",
    "            sd.alias = \",\".join(set(name_list))\n",
    "            self.sess.add(sd)\n",
    "        logging.info(\"voting complete\")"
   ]
  },
  {
   "cell_type": "markdown",
   "metadata": {},
   "source": [
    "### Out facing function"
   ]
  },
  {
   "cell_type": "markdown",
   "metadata": {},
   "source": [
    "* lib: str, the name you assign to your target, preferably start with a letter, no funny chars except under score\n",
    "* import_: bool, default True, import the object from ```lib``` name?\n",
    "* obj: could be class, module, function, variable, default None"
   ]
  },
  {
   "cell_type": "code",
   "execution_count": null,
   "metadata": {},
   "outputs": [],
   "source": [
    "# export\n",
    "def parse_lib(lib, import_ = True, obj = None):\n",
    "    path = os.path.join(basedir, f\"{lib}.db\")\n",
    "    dataurl = \"sqlite:///\" + path\n",
    "    os.system(f\"rm {path}\")\n",
    "    print(f\"creating SQLite db:\\t {dataurl}\")\n",
    "    eng = ce(dataurl)\n",
    "    sess = Session(bind=eng)\n",
    "\n",
    "    for m in [docModel,docGraphModel,inhGraphModel]:\n",
    "        refresh_table(m, engine = eng)\n",
    "\n",
    "    if import_:\n",
    "        dt = docTour(__import__(lib), lib, sess)\n",
    "    else:\n",
    "        dt = docTour(obj, lib, sess)\n",
    "    return dt,dataurl\n",
    "\n"
   ]
  },
  {
   "cell_type": "markdown",
   "metadata": {},
   "source": [
    "## Experiment"
   ]
  },
  {
   "cell_type": "markdown",
   "metadata": {},
   "source": [
    "Try some example "
   ]
  },
  {
   "cell_type": "code",
   "execution_count": null,
   "metadata": {},
   "outputs": [],
   "source": [
    "from torch import nn"
   ]
  },
  {
   "cell_type": "markdown",
   "metadata": {},
   "source": [
    "dataurl will point to the sqlite file generated from this operation"
   ]
  },
  {
   "cell_type": "code",
   "execution_count": null,
   "metadata": {},
   "outputs": [
    {
     "name": "stdout",
     "output_type": "stream",
     "text": [
      "creating SQLite db:\t sqlite:////Users/salvor/Downloads/GRU.db\n"
     ]
    }
   ],
   "source": [
    "dt,dataurl = parse_lib(\"GRU\", False, nn.GRU)"
   ]
  },
  {
   "cell_type": "markdown",
   "metadata": {},
   "source": [
    "#### Data sample"
   ]
  },
  {
   "cell_type": "markdown",
   "metadata": {},
   "source": [
    "Sample of the data we extracted from our operation"
   ]
  },
  {
   "cell_type": "code",
   "execution_count": null,
   "metadata": {},
   "outputs": [
    {
     "data": {
      "text/html": [
       "<div>\n",
       "<style scoped>\n",
       "    .dataframe tbody tr th:only-of-type {\n",
       "        vertical-align: middle;\n",
       "    }\n",
       "\n",
       "    .dataframe tbody tr th {\n",
       "        vertical-align: top;\n",
       "    }\n",
       "\n",
       "    .dataframe thead th {\n",
       "        text-align: right;\n",
       "    }\n",
       "</style>\n",
       "<table border=\"1\" class=\"dataframe\">\n",
       "  <thead>\n",
       "    <tr style=\"text-align: right;\">\n",
       "      <th></th>\n",
       "      <th>id</th>\n",
       "      <th>name</th>\n",
       "      <th>doc</th>\n",
       "      <th>path</th>\n",
       "      <th>names</th>\n",
       "      <th>level</th>\n",
       "      <th>source</th>\n",
       "      <th>ctype</th>\n",
       "      <th>alias</th>\n",
       "    </tr>\n",
       "  </thead>\n",
       "  <tbody>\n",
       "    <tr>\n",
       "      <th>45</th>\n",
       "      <td>5056307712</td>\n",
       "      <td>_get_flat_weights_names</td>\n",
       "      <td>None</td>\n",
       "      <td>/Users/salvor/anaconda3/lib/python3.7/site-pac...</td>\n",
       "      <td>GRU._get_flat_weights._parameter_names_fn,GRU....</td>\n",
       "      <td>3</td>\n",
       "      <td></td>\n",
       "      <td>function</td>\n",
       "      <td>_parameter_names_fn,_get_flat_weights_names</td>\n",
       "    </tr>\n",
       "    <tr>\n",
       "      <th>53</th>\n",
       "      <td>5056308576</td>\n",
       "      <td>permute_hidden</td>\n",
       "      <td>None</td>\n",
       "      <td>/Users/salvor/anaconda3/lib/python3.7/site-pac...</td>\n",
       "      <td>GRU.permute_hidden,GRU.permute_hidden</td>\n",
       "      <td>2</td>\n",
       "      <td></td>\n",
       "      <td>function</td>\n",
       "      <td>permute_hidden</td>\n",
       "    </tr>\n",
       "    <tr>\n",
       "      <th>11</th>\n",
       "      <td>5055174272</td>\n",
       "      <td>add_module</td>\n",
       "      <td>Adds a child module to the current module.\\n\\n...</td>\n",
       "      <td>/Users/salvor/anaconda3/lib/python3.7/site-pac...</td>\n",
       "      <td>RNNBase.add_module,GRU.add_module,GRU.add_module</td>\n",
       "      <td>2</td>\n",
       "      <td></td>\n",
       "      <td>function</td>\n",
       "      <td>add_module</td>\n",
       "    </tr>\n",
       "    <tr>\n",
       "      <th>5</th>\n",
       "      <td>5055186272</td>\n",
       "      <td>_named_members</td>\n",
       "      <td>Helper method for yielding various names + mem...</td>\n",
       "      <td>/Users/salvor/anaconda3/lib/python3.7/site-pac...</td>\n",
       "      <td>RNNBase._named_members,GRU._named_members,GRU....</td>\n",
       "      <td>2</td>\n",
       "      <td></td>\n",
       "      <td>function</td>\n",
       "      <td>_named_members</td>\n",
       "    </tr>\n",
       "    <tr>\n",
       "      <th>13</th>\n",
       "      <td>5055186704</td>\n",
       "      <td>buffers</td>\n",
       "      <td>Returns an iterator over module buffers.\\n\\n  ...</td>\n",
       "      <td>/Users/salvor/anaconda3/lib/python3.7/site-pac...</td>\n",
       "      <td>RNNBase.buffers,GRU.buffers,GRU.buffers</td>\n",
       "      <td>2</td>\n",
       "      <td></td>\n",
       "      <td>function</td>\n",
       "      <td>buffers</td>\n",
       "    </tr>\n",
       "  </tbody>\n",
       "</table>\n",
       "</div>"
      ],
      "text/plain": [
       "            id                     name  \\\n",
       "45  5056307712  _get_flat_weights_names   \n",
       "53  5056308576           permute_hidden   \n",
       "11  5055174272               add_module   \n",
       "5   5055186272           _named_members   \n",
       "13  5055186704                  buffers   \n",
       "\n",
       "                                                  doc  \\\n",
       "45                                               None   \n",
       "53                                               None   \n",
       "11  Adds a child module to the current module.\\n\\n...   \n",
       "5   Helper method for yielding various names + mem...   \n",
       "13  Returns an iterator over module buffers.\\n\\n  ...   \n",
       "\n",
       "                                                 path  \\\n",
       "45  /Users/salvor/anaconda3/lib/python3.7/site-pac...   \n",
       "53  /Users/salvor/anaconda3/lib/python3.7/site-pac...   \n",
       "11  /Users/salvor/anaconda3/lib/python3.7/site-pac...   \n",
       "5   /Users/salvor/anaconda3/lib/python3.7/site-pac...   \n",
       "13  /Users/salvor/anaconda3/lib/python3.7/site-pac...   \n",
       "\n",
       "                                                names  level source     ctype  \\\n",
       "45  GRU._get_flat_weights._parameter_names_fn,GRU....      3         function   \n",
       "53              GRU.permute_hidden,GRU.permute_hidden      2         function   \n",
       "11   RNNBase.add_module,GRU.add_module,GRU.add_module      2         function   \n",
       "5   RNNBase._named_members,GRU._named_members,GRU....      2         function   \n",
       "13            RNNBase.buffers,GRU.buffers,GRU.buffers      2         function   \n",
       "\n",
       "                                          alias  \n",
       "45  _parameter_names_fn,_get_flat_weights_names  \n",
       "53                               permute_hidden  \n",
       "11                                   add_module  \n",
       "5                                _named_members  \n",
       "13                                      buffers  "
      ]
     },
     "execution_count": null,
     "metadata": {},
     "output_type": "execute_result"
    }
   ],
   "source": [
    "dt.df.sample(5)"
   ]
  }
 ],
 "metadata": {
  "kernelspec": {
   "display_name": "Python 3",
   "language": "python",
   "name": "python3"
  }
 },
 "nbformat": 4,
 "nbformat_minor": 2
}
